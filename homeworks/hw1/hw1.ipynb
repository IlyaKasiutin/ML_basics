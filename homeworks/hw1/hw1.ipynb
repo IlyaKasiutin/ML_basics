{
 "cells": [
  {
   "cell_type": "code",
   "execution_count": 200,
   "metadata": {
    "ExecuteTime": {
     "end_time": "2021-10-04T15:58:35.869898Z",
     "start_time": "2021-10-04T15:58:35.420168Z"
    }
   },
   "outputs": [],
   "source": [
    "import numpy as np\n",
    "import matplotlib.pyplot as plt"
   ]
  },
  {
   "cell_type": "code",
   "execution_count": 2,
   "metadata": {},
   "outputs": [],
   "source": [
    "def timeit_to_float(value):\n",
    "    '''Приведение результатов работы функции %timeit в вещественный формат'''\n",
    "    units = str(value).split()[1]\n",
    "    res = float(str(value).split()[0])\n",
    "    if units == 's':\n",
    "        return res\n",
    "    elif units == 'ms':\n",
    "        return res * 10 ** (-3)\n",
    "    elif units == 'µs':\n",
    "        return res * 10 ** (-6)"
   ]
  },
  {
   "cell_type": "markdown",
   "metadata": {},
   "source": [
    "# Максимум 5 баллов - по ~0.7 баллов за задание"
   ]
  },
  {
   "cell_type": "markdown",
   "metadata": {},
   "source": [
    "### 1. Подсчитать произведение ненулевых элементов на диагонали прямоугольной матрицы. \n",
    "Для X = np.array([[1, 0, 1], [2, 0, 2], [3, 0, 3], [4, 4, 4]]) ответ 3."
   ]
  },
  {
   "cell_type": "markdown",
   "metadata": {},
   "source": [
    "#### 1.1"
   ]
  },
  {
   "cell_type": "code",
   "execution_count": 3,
   "metadata": {},
   "outputs": [],
   "source": [
    "def func_1(array):\n",
    "    '''Функция проверяет каждый элемент матрицы и, если он стоит на диагонали и имеет ненулевое значение, то учитывает\n",
    "    его в произведении'''\n",
    "    p = (np.longdouble)(1)\n",
    "    for i in range(len(array)):\n",
    "        for j in range(len(array[0])):\n",
    "            if i == j and array[i][j] != 0:\n",
    "                p *= array[i][j]\n",
    "    return p"
   ]
  },
  {
   "cell_type": "markdown",
   "metadata": {},
   "source": [
    "#### 1.2"
   ]
  },
  {
   "cell_type": "code",
   "execution_count": 4,
   "metadata": {},
   "outputs": [],
   "source": [
    "def best_func_1(array):\n",
    "    '''Функция diag возвращает диагональные элементы матрицы. Функция place заменяет нулевые элементы на 1,\n",
    "    затем подсчитывается произведение'''\n",
    "    bufer = np.array(np.diag(array))\n",
    "    np.place(bufer, bufer == 0, [1])\n",
    "    return (np.longdouble)(np.prod(bufer))  "
   ]
  },
  {
   "cell_type": "markdown",
   "metadata": {},
   "source": [
    "#### 1.3"
   ]
  },
  {
   "cell_type": "code",
   "execution_count": 5,
   "metadata": {},
   "outputs": [],
   "source": [
    "def manual_func_1(array):\n",
    "    '''Функция находит произведение ненулевых элементов на диагонали матрицы по соответствующему условию'''\n",
    "    p = (np.longdouble)(1)\n",
    "    for i in range(min(len(array), len(array[0]))):\n",
    "        if array[i][i] != 0:\n",
    "            p *= array[i][i]\n",
    "    return p"
   ]
  },
  {
   "cell_type": "markdown",
   "metadata": {},
   "source": [
    "### Тесты эффективности"
   ]
  },
  {
   "cell_type": "code",
   "execution_count": 27,
   "metadata": {},
   "outputs": [],
   "source": [
    "a = np.random.rand(10, 10) + 1"
   ]
  },
  {
   "cell_type": "code",
   "execution_count": 28,
   "metadata": {},
   "outputs": [
    {
     "name": "stdout",
     "output_type": "stream",
     "text": [
      "24.8 µs ± 657 ns per loop (mean ± std. dev. of 7 runs, 10,000 loops each)\n"
     ]
    },
    {
     "data": {
      "text/plain": [
       "36.73165877975861"
      ]
     },
     "execution_count": 28,
     "metadata": {},
     "output_type": "execute_result"
    }
   ],
   "source": [
    "time_1 = %timeit -o func_1(a)\n",
    "func_1(a)"
   ]
  },
  {
   "cell_type": "code",
   "execution_count": 29,
   "metadata": {},
   "outputs": [
    {
     "name": "stdout",
     "output_type": "stream",
     "text": [
      "21.1 µs ± 852 ns per loop (mean ± std. dev. of 7 runs, 10,000 loops each)\n"
     ]
    },
    {
     "data": {
      "text/plain": [
       "36.73165877975861"
      ]
     },
     "execution_count": 29,
     "metadata": {},
     "output_type": "execute_result"
    }
   ],
   "source": [
    "best_time_1 = %timeit -o best_func_1(a)\n",
    "best_func_1(a)"
   ]
  },
  {
   "cell_type": "code",
   "execution_count": 30,
   "metadata": {},
   "outputs": [
    {
     "name": "stdout",
     "output_type": "stream",
     "text": [
      "14.7 µs ± 136 ns per loop (mean ± std. dev. of 7 runs, 100,000 loops each)\n"
     ]
    },
    {
     "data": {
      "text/plain": [
       "36.73165877975861"
      ]
     },
     "execution_count": 30,
     "metadata": {},
     "output_type": "execute_result"
    }
   ],
   "source": [
    "manual_time_1 = %timeit -o manual_func_1(a)\n",
    "manual_func_1(a)"
   ]
  },
  {
   "cell_type": "code",
   "execution_count": 31,
   "metadata": {},
   "outputs": [
    {
     "data": {
      "image/png": "[encoded data removed]",
      "text/plain": [
       "<Figure size 640x480 with 1 Axes>"
      ]
     },
     "metadata": {},
     "output_type": "display_data"
    }
   ],
   "source": [
    "y_axis = [timeit_to_float(time_1), timeit_to_float(best_time_1), timeit_to_float(manual_time_1)]\n",
    "x_axis = ['func_1', 'best_func_1', 'manual_finc_1']\n",
    "plt.bar(x_axis, y_axis)\n",
    "plt.show()"
   ]
  },
  {
   "cell_type": "code",
   "execution_count": 32,
   "metadata": {},
   "outputs": [],
   "source": [
    "a = np.random.rand(100, 100) + 1"
   ]
  },
  {
   "cell_type": "code",
   "execution_count": 33,
   "metadata": {},
   "outputs": [
    {
     "name": "stdout",
     "output_type": "stream",
     "text": [
      "511 µs ± 11.2 µs per loop (mean ± std. dev. of 7 runs, 1,000 loops each)\n"
     ]
    },
    {
     "data": {
      "text/plain": [
       "5.571326992928609e+17"
      ]
     },
     "execution_count": 33,
     "metadata": {},
     "output_type": "execute_result"
    }
   ],
   "source": [
    "time_1 = %timeit -o func_1(a)\n",
    "func_1(a)"
   ]
  },
  {
   "cell_type": "code",
   "execution_count": 34,
   "metadata": {},
   "outputs": [
    {
     "name": "stdout",
     "output_type": "stream",
     "text": [
      "20.7 µs ± 1.01 µs per loop (mean ± std. dev. of 7 runs, 10,000 loops each)\n"
     ]
    },
    {
     "data": {
      "text/plain": [
       "5.571326992928609e+17"
      ]
     },
     "execution_count": 34,
     "metadata": {},
     "output_type": "execute_result"
    }
   ],
   "source": [
    "best_time_1 = %timeit -o best_func_1(a)\n",
    "best_func_1(a)"
   ]
  },
  {
   "cell_type": "code",
   "execution_count": 35,
   "metadata": {},
   "outputs": [
    {
     "name": "stdout",
     "output_type": "stream",
     "text": [
      "120 µs ± 1.6 µs per loop (mean ± std. dev. of 7 runs, 10,000 loops each)\n"
     ]
    },
    {
     "data": {
      "text/plain": [
       "5.571326992928609e+17"
      ]
     },
     "execution_count": 35,
     "metadata": {},
     "output_type": "execute_result"
    }
   ],
   "source": [
    "manual_time_1 = %timeit -o manual_func_1(a)\n",
    "manual_func_1(a)"
   ]
  },
  {
   "cell_type": "code",
   "execution_count": 36,
   "metadata": {},
   "outputs": [
    {
     "data": {
      "image/png": "[encoded data removed]",
      "text/plain": [
       "<Figure size 640x480 with 1 Axes>"
      ]
     },
     "metadata": {},
     "output_type": "display_data"
    }
   ],
   "source": [
    "y_axis = [timeit_to_float(time_1), timeit_to_float(best_time_1), timeit_to_float(manual_time_1)]\n",
    "x_axis = ['func_1', 'best_func_1', 'manual_finc_1']\n",
    "plt.bar(x_axis, y_axis)\n",
    "plt.show()"
   ]
  },
  {
   "cell_type": "code",
   "execution_count": 37,
   "metadata": {},
   "outputs": [],
   "source": [
    "a = np.random.rand(1000, 1000) + 1"
   ]
  },
  {
   "cell_type": "code",
   "execution_count": 38,
   "metadata": {},
   "outputs": [
    {
     "name": "stdout",
     "output_type": "stream",
     "text": [
      "47.9 ms ± 1.24 ms per loop (mean ± std. dev. of 7 runs, 10 loops each)\n"
     ]
    },
    {
     "data": {
      "text/plain": [
       "1.2203680682448853e+167"
      ]
     },
     "execution_count": 38,
     "metadata": {},
     "output_type": "execute_result"
    }
   ],
   "source": [
    "time_1 = %timeit -o func_1(a)\n",
    "func_1(a)"
   ]
  },
  {
   "cell_type": "code",
   "execution_count": 39,
   "metadata": {},
   "outputs": [
    {
     "name": "stdout",
     "output_type": "stream",
     "text": [
      "26.6 µs ± 596 ns per loop (mean ± std. dev. of 7 runs, 10,000 loops each)\n"
     ]
    },
    {
     "data": {
      "text/plain": [
       "1.2203680682448853e+167"
      ]
     },
     "execution_count": 39,
     "metadata": {},
     "output_type": "execute_result"
    }
   ],
   "source": [
    "best_time_1 = %timeit -o best_func_1(a)\n",
    "best_func_1(a)"
   ]
  },
  {
   "cell_type": "code",
   "execution_count": 40,
   "metadata": {},
   "outputs": [
    {
     "name": "stdout",
     "output_type": "stream",
     "text": [
      "1.21 ms ± 15.2 µs per loop (mean ± std. dev. of 7 runs, 1,000 loops each)\n"
     ]
    },
    {
     "data": {
      "text/plain": [
       "1.2203680682448853e+167"
      ]
     },
     "execution_count": 40,
     "metadata": {},
     "output_type": "execute_result"
    }
   ],
   "source": [
    "manual_time_1 = %timeit -o manual_func_1(a)\n",
    "manual_func_1(a)"
   ]
  },
  {
   "cell_type": "code",
   "execution_count": 41,
   "metadata": {},
   "outputs": [
    {
     "data": {
      "image/png": "[encoded data removed]",
      "text/plain": [
       "<Figure size 640x480 with 1 Axes>"
      ]
     },
     "metadata": {},
     "output_type": "display_data"
    }
   ],
   "source": [
    "y_axis = [timeit_to_float(time_1), timeit_to_float(best_time_1), timeit_to_float(manual_time_1)]\n",
    "x_axis = ['func_1', 'best_func_1', 'manual_finc_1']\n",
    "plt.bar(x_axis, y_axis)\n",
    "plt.show()"
   ]
  },
  {
   "cell_type": "markdown",
   "metadata": {},
   "source": [
    "### 2. Дана матрица X и два вектора одинаковой длины i и j. Построить вектор np.array([X[i[0], j[0]], X[i[1], j[1]], ... , X[i[N-1], j[N-1]]])."
   ]
  },
  {
   "cell_type": "markdown",
   "metadata": {},
   "source": [
    "#### 2.1"
   ]
  },
  {
   "cell_type": "code",
   "execution_count": 46,
   "metadata": {},
   "outputs": [],
   "source": [
    "def func_2(array, vec1, vec2):\n",
    "    '''В цикле проходим по всем элементам векторов индексов и находим элементы с совпадающими индексами'''\n",
    "    new_vec = []\n",
    "    for i in range(len(vec1)):\n",
    "        for j in range(len(vec2)):\n",
    "            if i == j:\n",
    "                new_vec.append(array[vec1[i]][vec2[j]])\n",
    "    return np.array(new_vec)"
   ]
  },
  {
   "cell_type": "markdown",
   "metadata": {},
   "source": [
    "#### 2.2"
   ]
  },
  {
   "cell_type": "code",
   "execution_count": 47,
   "metadata": {},
   "outputs": [],
   "source": [
    "def best_func_2(array, vec1, vec2):\n",
    "    '''С помощью конструкции numpy сразу формируем новый вектор'''\n",
    "    return array[vec1, vec2]"
   ]
  },
  {
   "cell_type": "markdown",
   "metadata": {},
   "source": [
    "#### 2.3"
   ]
  },
  {
   "cell_type": "code",
   "execution_count": 48,
   "metadata": {},
   "outputs": [],
   "source": [
    "def manual_func_2(array, vec1, vec2):\n",
    "    '''В цикле проходим по всем элементам векторов индексов и на каждой итерации добавляем к вектору новый элемент'''\n",
    "    new_vec = []\n",
    "    for i in range(len(vec1)):\n",
    "        new_vec.append(array[vec1[i]][vec2[i]])\n",
    "    return np.array(new_vec)"
   ]
  },
  {
   "cell_type": "markdown",
   "metadata": {},
   "source": [
    "### Тесты эффективности"
   ]
  },
  {
   "cell_type": "code",
   "execution_count": 54,
   "metadata": {},
   "outputs": [],
   "source": [
    "A = np.random.randint(0, 30, (100, 100))\n",
    "i = np.random.randint(0, len(A), len(A))\n",
    "j = np.random.randint(0, len(A[0]), len(A[0]))"
   ]
  },
  {
   "cell_type": "code",
   "execution_count": 55,
   "metadata": {},
   "outputs": [
    {
     "name": "stdout",
     "output_type": "stream",
     "text": [
      "460 µs ± 11.4 µs per loop (mean ± std. dev. of 7 runs, 1,000 loops each)\n"
     ]
    },
    {
     "data": {
      "text/plain": [
       "array([11, 21, 25, 26, 13, 21, 13,  4, 24, 27,  6, 15,  5, 15, 22, 22, 14,\n",
       "        5, 10,  6, 24,  7, 11,  9, 22, 12,  6,  5, 21, 12,  3, 15, 20, 22,\n",
       "       18, 25,  0, 15, 16, 27, 27, 12, 24,  5, 15, 17, 11, 15, 18, 18, 13,\n",
       "       27, 27, 28, 27, 28,  0,  1, 17, 24, 14, 17,  9, 25, 17, 17, 21,  9,\n",
       "        1, 20, 11, 15,  2,  0, 27,  2, 15, 14, 25, 18, 23, 11, 23, 19,  5,\n",
       "        0,  0,  8,  4, 15, 13, 18, 19,  1, 25, 22, 24, 18,  0,  5])"
      ]
     },
     "execution_count": 55,
     "metadata": {},
     "output_type": "execute_result"
    }
   ],
   "source": [
    "time_2 = %timeit -o func_2(A, i, j)\n",
    "func_2(A, i, j)"
   ]
  },
  {
   "cell_type": "code",
   "execution_count": 56,
   "metadata": {},
   "outputs": [
    {
     "name": "stdout",
     "output_type": "stream",
     "text": [
      "6.64 µs ± 177 ns per loop (mean ± std. dev. of 7 runs, 100,000 loops each)\n"
     ]
    },
    {
     "data": {
      "text/plain": [
       "array([11, 21, 25, 26, 13, 21, 13,  4, 24, 27,  6, 15,  5, 15, 22, 22, 14,\n",
       "        5, 10,  6, 24,  7, 11,  9, 22, 12,  6,  5, 21, 12,  3, 15, 20, 22,\n",
       "       18, 25,  0, 15, 16, 27, 27, 12, 24,  5, 15, 17, 11, 15, 18, 18, 13,\n",
       "       27, 27, 28, 27, 28,  0,  1, 17, 24, 14, 17,  9, 25, 17, 17, 21,  9,\n",
       "        1, 20, 11, 15,  2,  0, 27,  2, 15, 14, 25, 18, 23, 11, 23, 19,  5,\n",
       "        0,  0,  8,  4, 15, 13, 18, 19,  1, 25, 22, 24, 18,  0,  5])"
      ]
     },
     "execution_count": 56,
     "metadata": {},
     "output_type": "execute_result"
    }
   ],
   "source": [
    "best_time_2 = %timeit -o best_func_2(A, i, j)\n",
    "best_func_2(A, i, j)"
   ]
  },
  {
   "cell_type": "code",
   "execution_count": 57,
   "metadata": {},
   "outputs": [
    {
     "name": "stdout",
     "output_type": "stream",
     "text": [
      "100 µs ± 1.32 µs per loop (mean ± std. dev. of 7 runs, 10,000 loops each)\n"
     ]
    },
    {
     "data": {
      "text/plain": [
       "array([11, 21, 25, 26, 13, 21, 13,  4, 24, 27,  6, 15,  5, 15, 22, 22, 14,\n",
       "        5, 10,  6, 24,  7, 11,  9, 22, 12,  6,  5, 21, 12,  3, 15, 20, 22,\n",
       "       18, 25,  0, 15, 16, 27, 27, 12, 24,  5, 15, 17, 11, 15, 18, 18, 13,\n",
       "       27, 27, 28, 27, 28,  0,  1, 17, 24, 14, 17,  9, 25, 17, 17, 21,  9,\n",
       "        1, 20, 11, 15,  2,  0, 27,  2, 15, 14, 25, 18, 23, 11, 23, 19,  5,\n",
       "        0,  0,  8,  4, 15, 13, 18, 19,  1, 25, 22, 24, 18,  0,  5])"
      ]
     },
     "execution_count": 57,
     "metadata": {},
     "output_type": "execute_result"
    }
   ],
   "source": [
    "manual_time_2 = %timeit -o manual_func_2(A, i, j)\n",
    "manual_func_2(A, i, j)"
   ]
  },
  {
   "cell_type": "code",
   "execution_count": 58,
   "metadata": {},
   "outputs": [
    {
     "data": {
      "image/png": "[encoded data removed]",
      "text/plain": [
       "<Figure size 640x480 with 1 Axes>"
      ]
     },
     "metadata": {},
     "output_type": "display_data"
    }
   ],
   "source": [
    "y_axis = [timeit_to_float(time_2), timeit_to_float(best_time_2), timeit_to_float(manual_time_2)]\n",
    "x_axis = ['func_2', 'best_func_2', 'manual_finc_2']\n",
    "plt.bar(x_axis, y_axis)\n",
    "plt.show()"
   ]
  },
  {
   "cell_type": "code",
   "execution_count": 59,
   "metadata": {},
   "outputs": [],
   "source": [
    "A = np.random.randint(0, 30, (1000, 1000))\n",
    "i = np.random.randint(0, len(A), len(A))\n",
    "j = np.random.randint(0, len(A[0]), len(A[0]))"
   ]
  },
  {
   "cell_type": "code",
   "execution_count": 60,
   "metadata": {},
   "outputs": [
    {
     "name": "stdout",
     "output_type": "stream",
     "text": [
      "47.8 ms ± 995 µs per loop (mean ± std. dev. of 7 runs, 10 loops each)\n"
     ]
    },
    {
     "data": {
      "text/plain": [
       "array([ 7,  6, 11,  4, 25, 15,  2, 18, 29, 27, 15,  0, 27, 22, 18, 24,  5,\n",
       "       22,  9,  8, 27, 27, 26, 16, 18,  9, 26, 23, 23, 20,  8, 21,  1,  0,\n",
       "       25,  1, 24, 26, 12,  5,  3, 21, 13,  2, 24, 28, 12, 22,  7, 23, 15,\n",
       "       16, 16, 29, 24, 18, 29, 14,  6, 18,  5, 10,  5, 13,  8, 25,  3, 21,\n",
       "        1,  1,  8, 19, 23,  7,  7, 18,  7, 14, 27, 17, 10, 19, 11, 23, 23,\n",
       "       12, 25, 20, 27,  0,  3, 16, 20, 13, 21,  9, 22,  0,  9,  5, 13, 27,\n",
       "       20, 19, 17, 12,  3, 17, 18,  0, 21, 20,  8, 15, 19,  2, 19, 16, 16,\n",
       "       21, 16,  4, 27,  6, 26, 14,  1,  4, 19,  1, 19, 19, 24, 16,  2, 23,\n",
       "       26,  2, 15, 28, 23, 12, 27,  1, 16,  2, 15, 20,  3,  4, 20,  8,  5,\n",
       "       25, 18, 27, 14, 22,  7,  0, 22,  4,  0, 13, 19, 28, 28, 19,  4,  6,\n",
       "       17,  4, 14, 11,  2,  7, 26,  3, 23, 20, 12, 19, 26, 17, 23, 17, 24,\n",
       "       14, 15, 25, 19, 19, 10, 27, 23,  3,  0, 24,  1,  0,  2,  8,  2, 28,\n",
       "       27, 26, 10,  3, 14,  9, 20, 27, 21, 10, 20, 11, 28, 13,  5, 20, 11,\n",
       "        2,  5, 15, 18,  7, 12,  6, 24, 29, 15, 13, 12, 17,  1, 28, 29,  2,\n",
       "       16, 23, 10,  7, 19, 12, 21,  4,  8, 15,  2, 16, 15, 16, 20, 26, 20,\n",
       "       24, 14, 26, 15, 23,  3, 29, 16, 18, 21,  1,  2, 17,  6,  8,  5,  4,\n",
       "       14, 17, 13, 16, 22, 16,  9, 25,  5,  7, 19, 26, 17,  1,  2,  6,  5,\n",
       "       17, 22,  3,  3, 14, 18,  2, 19, 18, 19, 16, 17, 26, 11, 14, 15,  1,\n",
       "       15, 20,  6, 24, 13, 29, 10, 10,  0, 12,  2, 22,  7, 21,  7,  5, 21,\n",
       "       21,  8, 17, 24,  0, 25, 10, 16, 15,  5, 15,  6,  1,  0, 19,  9, 12,\n",
       "        5,  8, 14, 10,  1, 23,  7, 14,  2,  4,  8, 16,  0,  3, 23, 15,  0,\n",
       "        2,  6, 14, 26, 28,  3, 15, 23, 28, 27, 23, 14, 15, 14, 28,  5,  6,\n",
       "       29, 21,  7, 12,  5, 19, 17, 25, 12, 26, 16, 17, 16, 25,  3, 13, 29,\n",
       "        0, 20, 27, 12, 19,  2, 13, 24, 13, 26,  1, 18,  5, 23,  3,  1, 12,\n",
       "       28, 20,  9, 17, 16, 17, 23, 18,  9,  3, 18, 16, 25, 21,  8, 26, 21,\n",
       "       13, 17,  7, 29, 20,  9, 17, 24,  5,  5, 17, 14, 16, 16,  7, 29,  9,\n",
       "        8,  2, 20,  5,  2, 23,  4, 14,  4, 20,  8,  5, 14, 22, 20, 28, 19,\n",
       "        1, 27, 29, 23, 17,  6,  4, 15, 20, 29, 22,  7,  2, 14, 28, 23, 17,\n",
       "       25, 27,  5, 11,  5, 10, 16,  0, 11,  5,  5,  4, 28, 18, 14, 26, 29,\n",
       "       14,  9, 20, 28,  5, 11, 23, 11, 22, 12, 13,  4, 10, 10, 27, 18, 24,\n",
       "        6, 11, 18, 13, 17,  7,  9,  6, 22, 29, 14, 18,  9, 10, 19, 23,  3,\n",
       "       15, 29, 18, 16, 13,  3, 24, 18,  1, 10, 15, 25,  3, 24, 27, 16, 25,\n",
       "       27, 13, 13, 15, 14, 16, 25,  8, 14, 10,  6, 23, 15, 19,  1, 29,  4,\n",
       "        4, 22, 21,  9, 16, 17, 16,  6, 10,  9,  3, 18, 11, 13,  0,  2,  1,\n",
       "        6,  2, 21,  0, 25, 29, 11, 24, 16, 26, 10, 18, 11,  2, 19, 13, 26,\n",
       "        6,  7, 17, 19, 14, 10, 28,  6, 25,  2, 24, 26,  5,  2, 24,  8,  6,\n",
       "       16, 18, 23,  1, 11, 20, 17, 17,  3,  9, 15, 21,  2, 12, 29, 12, 25,\n",
       "        7, 29,  3, 11, 20,  7, 16,  9, 29, 17, 23,  3,  3, 16, 18,  4, 12,\n",
       "       29,  0, 22, 16, 17, 16, 22, 22,  9,  4, 27,  9, 21, 26,  2, 20, 14,\n",
       "       22, 21, 18, 18,  7, 27, 24,  8, 23,  7, 28, 29,  5,  9,  5,  5,  7,\n",
       "       13, 24, 17, 21, 17, 22, 27,  9,  6,  0,  2,  9,  7, 22, 10,  8, 18,\n",
       "        8, 15,  3,  2, 18,  6, 24,  6, 25, 13, 15, 25, 16, 27, 10, 19,  1,\n",
       "        1, 25, 15, 22, 11, 18, 10,  2, 23, 12, 14, 25,  8, 17, 19, 28,  9,\n",
       "       11, 26, 29, 12, 20,  5, 16, 13,  2, 10,  1, 26, 17, 12, 16,  7, 12,\n",
       "       14, 11, 11,  4, 13, 20, 21,  0,  7, 20, 21, 23, 13,  7, 18, 16, 24,\n",
       "       15, 27, 18, 10, 11, 22, 11,  3, 23, 16,  0,  6, 29, 18, 22, 23, 13,\n",
       "        3, 16,  5,  5, 10, 11, 23,  7, 16, 21,  2, 16,  3, 24, 26,  9,  7,\n",
       "       24, 27, 22, 25,  5, 11, 16, 15,  4, 25, 21, 18, 20,  3, 22,  4, 11,\n",
       "       20,  9, 23,  4, 11,  9, 11, 11, 19,  0, 10,  8,  9, 16, 13, 14, 26,\n",
       "        4, 21,  2,  1,  9, 15,  8, 14,  6, 10, 14, 27,  6, 27,  8, 16,  2,\n",
       "       20,  0, 12,  9, 25,  1,  3,  1, 27, 23, 28, 23, 14, 15,  6, 26, 27,\n",
       "       26,  2, 26, 28, 10,  1,  2, 22, 27,  2, 26, 14, 15, 16, 17, 11,  8,\n",
       "       13, 11, 16,  0, 24,  9, 21, 22, 26, 23, 18, 11, 13,  2, 17, 28,  0,\n",
       "        0, 20,  7,  9,  7, 15,  7, 20,  2, 23,  9, 12,  0,  7,  7, 13,  4,\n",
       "       22, 26,  5,  2,  6, 23,  2,  4,  8,  4, 20, 11, 10, 22, 15,  3, 13,\n",
       "       17,  8, 13, 22, 18, 22, 11, 22,  3, 21, 12, 11, 28, 20, 25,  2, 17,\n",
       "        5,  2,  2, 12,  7, 17, 10, 16, 14, 20, 14, 12, 14, 24, 15, 14, 21,\n",
       "       14,  8, 12,  9, 12,  1, 24, 27, 12,  5,  3,  3,  3,  9,  5, 14, 27,\n",
       "       26, 22, 21,  1, 16, 17,  0, 15, 21,  4,  1,  1, 12, 25])"
      ]
     },
     "execution_count": 60,
     "metadata": {},
     "output_type": "execute_result"
    }
   ],
   "source": [
    "time_2 = %timeit -o func_2(A, i, j)\n",
    "func_2(A, i, j)"
   ]
  },
  {
   "cell_type": "code",
   "execution_count": 61,
   "metadata": {},
   "outputs": [
    {
     "name": "stdout",
     "output_type": "stream",
     "text": [
      "19.2 µs ± 185 ns per loop (mean ± std. dev. of 7 runs, 100,000 loops each)\n"
     ]
    },
    {
     "data": {
      "text/plain": [
       "array([ 7,  6, 11,  4, 25, 15,  2, 18, 29, 27, 15,  0, 27, 22, 18, 24,  5,\n",
       "       22,  9,  8, 27, 27, 26, 16, 18,  9, 26, 23, 23, 20,  8, 21,  1,  0,\n",
       "       25,  1, 24, 26, 12,  5,  3, 21, 13,  2, 24, 28, 12, 22,  7, 23, 15,\n",
       "       16, 16, 29, 24, 18, 29, 14,  6, 18,  5, 10,  5, 13,  8, 25,  3, 21,\n",
       "        1,  1,  8, 19, 23,  7,  7, 18,  7, 14, 27, 17, 10, 19, 11, 23, 23,\n",
       "       12, 25, 20, 27,  0,  3, 16, 20, 13, 21,  9, 22,  0,  9,  5, 13, 27,\n",
       "       20, 19, 17, 12,  3, 17, 18,  0, 21, 20,  8, 15, 19,  2, 19, 16, 16,\n",
       "       21, 16,  4, 27,  6, 26, 14,  1,  4, 19,  1, 19, 19, 24, 16,  2, 23,\n",
       "       26,  2, 15, 28, 23, 12, 27,  1, 16,  2, 15, 20,  3,  4, 20,  8,  5,\n",
       "       25, 18, 27, 14, 22,  7,  0, 22,  4,  0, 13, 19, 28, 28, 19,  4,  6,\n",
       "       17,  4, 14, 11,  2,  7, 26,  3, 23, 20, 12, 19, 26, 17, 23, 17, 24,\n",
       "       14, 15, 25, 19, 19, 10, 27, 23,  3,  0, 24,  1,  0,  2,  8,  2, 28,\n",
       "       27, 26, 10,  3, 14,  9, 20, 27, 21, 10, 20, 11, 28, 13,  5, 20, 11,\n",
       "        2,  5, 15, 18,  7, 12,  6, 24, 29, 15, 13, 12, 17,  1, 28, 29,  2,\n",
       "       16, 23, 10,  7, 19, 12, 21,  4,  8, 15,  2, 16, 15, 16, 20, 26, 20,\n",
       "       24, 14, 26, 15, 23,  3, 29, 16, 18, 21,  1,  2, 17,  6,  8,  5,  4,\n",
       "       14, 17, 13, 16, 22, 16,  9, 25,  5,  7, 19, 26, 17,  1,  2,  6,  5,\n",
       "       17, 22,  3,  3, 14, 18,  2, 19, 18, 19, 16, 17, 26, 11, 14, 15,  1,\n",
       "       15, 20,  6, 24, 13, 29, 10, 10,  0, 12,  2, 22,  7, 21,  7,  5, 21,\n",
       "       21,  8, 17, 24,  0, 25, 10, 16, 15,  5, 15,  6,  1,  0, 19,  9, 12,\n",
       "        5,  8, 14, 10,  1, 23,  7, 14,  2,  4,  8, 16,  0,  3, 23, 15,  0,\n",
       "        2,  6, 14, 26, 28,  3, 15, 23, 28, 27, 23, 14, 15, 14, 28,  5,  6,\n",
       "       29, 21,  7, 12,  5, 19, 17, 25, 12, 26, 16, 17, 16, 25,  3, 13, 29,\n",
       "        0, 20, 27, 12, 19,  2, 13, 24, 13, 26,  1, 18,  5, 23,  3,  1, 12,\n",
       "       28, 20,  9, 17, 16, 17, 23, 18,  9,  3, 18, 16, 25, 21,  8, 26, 21,\n",
       "       13, 17,  7, 29, 20,  9, 17, 24,  5,  5, 17, 14, 16, 16,  7, 29,  9,\n",
       "        8,  2, 20,  5,  2, 23,  4, 14,  4, 20,  8,  5, 14, 22, 20, 28, 19,\n",
       "        1, 27, 29, 23, 17,  6,  4, 15, 20, 29, 22,  7,  2, 14, 28, 23, 17,\n",
       "       25, 27,  5, 11,  5, 10, 16,  0, 11,  5,  5,  4, 28, 18, 14, 26, 29,\n",
       "       14,  9, 20, 28,  5, 11, 23, 11, 22, 12, 13,  4, 10, 10, 27, 18, 24,\n",
       "        6, 11, 18, 13, 17,  7,  9,  6, 22, 29, 14, 18,  9, 10, 19, 23,  3,\n",
       "       15, 29, 18, 16, 13,  3, 24, 18,  1, 10, 15, 25,  3, 24, 27, 16, 25,\n",
       "       27, 13, 13, 15, 14, 16, 25,  8, 14, 10,  6, 23, 15, 19,  1, 29,  4,\n",
       "        4, 22, 21,  9, 16, 17, 16,  6, 10,  9,  3, 18, 11, 13,  0,  2,  1,\n",
       "        6,  2, 21,  0, 25, 29, 11, 24, 16, 26, 10, 18, 11,  2, 19, 13, 26,\n",
       "        6,  7, 17, 19, 14, 10, 28,  6, 25,  2, 24, 26,  5,  2, 24,  8,  6,\n",
       "       16, 18, 23,  1, 11, 20, 17, 17,  3,  9, 15, 21,  2, 12, 29, 12, 25,\n",
       "        7, 29,  3, 11, 20,  7, 16,  9, 29, 17, 23,  3,  3, 16, 18,  4, 12,\n",
       "       29,  0, 22, 16, 17, 16, 22, 22,  9,  4, 27,  9, 21, 26,  2, 20, 14,\n",
       "       22, 21, 18, 18,  7, 27, 24,  8, 23,  7, 28, 29,  5,  9,  5,  5,  7,\n",
       "       13, 24, 17, 21, 17, 22, 27,  9,  6,  0,  2,  9,  7, 22, 10,  8, 18,\n",
       "        8, 15,  3,  2, 18,  6, 24,  6, 25, 13, 15, 25, 16, 27, 10, 19,  1,\n",
       "        1, 25, 15, 22, 11, 18, 10,  2, 23, 12, 14, 25,  8, 17, 19, 28,  9,\n",
       "       11, 26, 29, 12, 20,  5, 16, 13,  2, 10,  1, 26, 17, 12, 16,  7, 12,\n",
       "       14, 11, 11,  4, 13, 20, 21,  0,  7, 20, 21, 23, 13,  7, 18, 16, 24,\n",
       "       15, 27, 18, 10, 11, 22, 11,  3, 23, 16,  0,  6, 29, 18, 22, 23, 13,\n",
       "        3, 16,  5,  5, 10, 11, 23,  7, 16, 21,  2, 16,  3, 24, 26,  9,  7,\n",
       "       24, 27, 22, 25,  5, 11, 16, 15,  4, 25, 21, 18, 20,  3, 22,  4, 11,\n",
       "       20,  9, 23,  4, 11,  9, 11, 11, 19,  0, 10,  8,  9, 16, 13, 14, 26,\n",
       "        4, 21,  2,  1,  9, 15,  8, 14,  6, 10, 14, 27,  6, 27,  8, 16,  2,\n",
       "       20,  0, 12,  9, 25,  1,  3,  1, 27, 23, 28, 23, 14, 15,  6, 26, 27,\n",
       "       26,  2, 26, 28, 10,  1,  2, 22, 27,  2, 26, 14, 15, 16, 17, 11,  8,\n",
       "       13, 11, 16,  0, 24,  9, 21, 22, 26, 23, 18, 11, 13,  2, 17, 28,  0,\n",
       "        0, 20,  7,  9,  7, 15,  7, 20,  2, 23,  9, 12,  0,  7,  7, 13,  4,\n",
       "       22, 26,  5,  2,  6, 23,  2,  4,  8,  4, 20, 11, 10, 22, 15,  3, 13,\n",
       "       17,  8, 13, 22, 18, 22, 11, 22,  3, 21, 12, 11, 28, 20, 25,  2, 17,\n",
       "        5,  2,  2, 12,  7, 17, 10, 16, 14, 20, 14, 12, 14, 24, 15, 14, 21,\n",
       "       14,  8, 12,  9, 12,  1, 24, 27, 12,  5,  3,  3,  3,  9,  5, 14, 27,\n",
       "       26, 22, 21,  1, 16, 17,  0, 15, 21,  4,  1,  1, 12, 25])"
      ]
     },
     "execution_count": 61,
     "metadata": {},
     "output_type": "execute_result"
    }
   ],
   "source": [
    "best_time_2 = %timeit -o best_func_2(A, i, j)\n",
    "best_func_2(A, i, j)"
   ]
  },
  {
   "cell_type": "code",
   "execution_count": 62,
   "metadata": {},
   "outputs": [
    {
     "name": "stdout",
     "output_type": "stream",
     "text": [
      "1.01 ms ± 4.93 µs per loop (mean ± std. dev. of 7 runs, 1,000 loops each)\n"
     ]
    },
    {
     "data": {
      "text/plain": [
       "array([ 7,  6, 11,  4, 25, 15,  2, 18, 29, 27, 15,  0, 27, 22, 18, 24,  5,\n",
       "       22,  9,  8, 27, 27, 26, 16, 18,  9, 26, 23, 23, 20,  8, 21,  1,  0,\n",
       "       25,  1, 24, 26, 12,  5,  3, 21, 13,  2, 24, 28, 12, 22,  7, 23, 15,\n",
       "       16, 16, 29, 24, 18, 29, 14,  6, 18,  5, 10,  5, 13,  8, 25,  3, 21,\n",
       "        1,  1,  8, 19, 23,  7,  7, 18,  7, 14, 27, 17, 10, 19, 11, 23, 23,\n",
       "       12, 25, 20, 27,  0,  3, 16, 20, 13, 21,  9, 22,  0,  9,  5, 13, 27,\n",
       "       20, 19, 17, 12,  3, 17, 18,  0, 21, 20,  8, 15, 19,  2, 19, 16, 16,\n",
       "       21, 16,  4, 27,  6, 26, 14,  1,  4, 19,  1, 19, 19, 24, 16,  2, 23,\n",
       "       26,  2, 15, 28, 23, 12, 27,  1, 16,  2, 15, 20,  3,  4, 20,  8,  5,\n",
       "       25, 18, 27, 14, 22,  7,  0, 22,  4,  0, 13, 19, 28, 28, 19,  4,  6,\n",
       "       17,  4, 14, 11,  2,  7, 26,  3, 23, 20, 12, 19, 26, 17, 23, 17, 24,\n",
       "       14, 15, 25, 19, 19, 10, 27, 23,  3,  0, 24,  1,  0,  2,  8,  2, 28,\n",
       "       27, 26, 10,  3, 14,  9, 20, 27, 21, 10, 20, 11, 28, 13,  5, 20, 11,\n",
       "        2,  5, 15, 18,  7, 12,  6, 24, 29, 15, 13, 12, 17,  1, 28, 29,  2,\n",
       "       16, 23, 10,  7, 19, 12, 21,  4,  8, 15,  2, 16, 15, 16, 20, 26, 20,\n",
       "       24, 14, 26, 15, 23,  3, 29, 16, 18, 21,  1,  2, 17,  6,  8,  5,  4,\n",
       "       14, 17, 13, 16, 22, 16,  9, 25,  5,  7, 19, 26, 17,  1,  2,  6,  5,\n",
       "       17, 22,  3,  3, 14, 18,  2, 19, 18, 19, 16, 17, 26, 11, 14, 15,  1,\n",
       "       15, 20,  6, 24, 13, 29, 10, 10,  0, 12,  2, 22,  7, 21,  7,  5, 21,\n",
       "       21,  8, 17, 24,  0, 25, 10, 16, 15,  5, 15,  6,  1,  0, 19,  9, 12,\n",
       "        5,  8, 14, 10,  1, 23,  7, 14,  2,  4,  8, 16,  0,  3, 23, 15,  0,\n",
       "        2,  6, 14, 26, 28,  3, 15, 23, 28, 27, 23, 14, 15, 14, 28,  5,  6,\n",
       "       29, 21,  7, 12,  5, 19, 17, 25, 12, 26, 16, 17, 16, 25,  3, 13, 29,\n",
       "        0, 20, 27, 12, 19,  2, 13, 24, 13, 26,  1, 18,  5, 23,  3,  1, 12,\n",
       "       28, 20,  9, 17, 16, 17, 23, 18,  9,  3, 18, 16, 25, 21,  8, 26, 21,\n",
       "       13, 17,  7, 29, 20,  9, 17, 24,  5,  5, 17, 14, 16, 16,  7, 29,  9,\n",
       "        8,  2, 20,  5,  2, 23,  4, 14,  4, 20,  8,  5, 14, 22, 20, 28, 19,\n",
       "        1, 27, 29, 23, 17,  6,  4, 15, 20, 29, 22,  7,  2, 14, 28, 23, 17,\n",
       "       25, 27,  5, 11,  5, 10, 16,  0, 11,  5,  5,  4, 28, 18, 14, 26, 29,\n",
       "       14,  9, 20, 28,  5, 11, 23, 11, 22, 12, 13,  4, 10, 10, 27, 18, 24,\n",
       "        6, 11, 18, 13, 17,  7,  9,  6, 22, 29, 14, 18,  9, 10, 19, 23,  3,\n",
       "       15, 29, 18, 16, 13,  3, 24, 18,  1, 10, 15, 25,  3, 24, 27, 16, 25,\n",
       "       27, 13, 13, 15, 14, 16, 25,  8, 14, 10,  6, 23, 15, 19,  1, 29,  4,\n",
       "        4, 22, 21,  9, 16, 17, 16,  6, 10,  9,  3, 18, 11, 13,  0,  2,  1,\n",
       "        6,  2, 21,  0, 25, 29, 11, 24, 16, 26, 10, 18, 11,  2, 19, 13, 26,\n",
       "        6,  7, 17, 19, 14, 10, 28,  6, 25,  2, 24, 26,  5,  2, 24,  8,  6,\n",
       "       16, 18, 23,  1, 11, 20, 17, 17,  3,  9, 15, 21,  2, 12, 29, 12, 25,\n",
       "        7, 29,  3, 11, 20,  7, 16,  9, 29, 17, 23,  3,  3, 16, 18,  4, 12,\n",
       "       29,  0, 22, 16, 17, 16, 22, 22,  9,  4, 27,  9, 21, 26,  2, 20, 14,\n",
       "       22, 21, 18, 18,  7, 27, 24,  8, 23,  7, 28, 29,  5,  9,  5,  5,  7,\n",
       "       13, 24, 17, 21, 17, 22, 27,  9,  6,  0,  2,  9,  7, 22, 10,  8, 18,\n",
       "        8, 15,  3,  2, 18,  6, 24,  6, 25, 13, 15, 25, 16, 27, 10, 19,  1,\n",
       "        1, 25, 15, 22, 11, 18, 10,  2, 23, 12, 14, 25,  8, 17, 19, 28,  9,\n",
       "       11, 26, 29, 12, 20,  5, 16, 13,  2, 10,  1, 26, 17, 12, 16,  7, 12,\n",
       "       14, 11, 11,  4, 13, 20, 21,  0,  7, 20, 21, 23, 13,  7, 18, 16, 24,\n",
       "       15, 27, 18, 10, 11, 22, 11,  3, 23, 16,  0,  6, 29, 18, 22, 23, 13,\n",
       "        3, 16,  5,  5, 10, 11, 23,  7, 16, 21,  2, 16,  3, 24, 26,  9,  7,\n",
       "       24, 27, 22, 25,  5, 11, 16, 15,  4, 25, 21, 18, 20,  3, 22,  4, 11,\n",
       "       20,  9, 23,  4, 11,  9, 11, 11, 19,  0, 10,  8,  9, 16, 13, 14, 26,\n",
       "        4, 21,  2,  1,  9, 15,  8, 14,  6, 10, 14, 27,  6, 27,  8, 16,  2,\n",
       "       20,  0, 12,  9, 25,  1,  3,  1, 27, 23, 28, 23, 14, 15,  6, 26, 27,\n",
       "       26,  2, 26, 28, 10,  1,  2, 22, 27,  2, 26, 14, 15, 16, 17, 11,  8,\n",
       "       13, 11, 16,  0, 24,  9, 21, 22, 26, 23, 18, 11, 13,  2, 17, 28,  0,\n",
       "        0, 20,  7,  9,  7, 15,  7, 20,  2, 23,  9, 12,  0,  7,  7, 13,  4,\n",
       "       22, 26,  5,  2,  6, 23,  2,  4,  8,  4, 20, 11, 10, 22, 15,  3, 13,\n",
       "       17,  8, 13, 22, 18, 22, 11, 22,  3, 21, 12, 11, 28, 20, 25,  2, 17,\n",
       "        5,  2,  2, 12,  7, 17, 10, 16, 14, 20, 14, 12, 14, 24, 15, 14, 21,\n",
       "       14,  8, 12,  9, 12,  1, 24, 27, 12,  5,  3,  3,  3,  9,  5, 14, 27,\n",
       "       26, 22, 21,  1, 16, 17,  0, 15, 21,  4,  1,  1, 12, 25])"
      ]
     },
     "execution_count": 62,
     "metadata": {},
     "output_type": "execute_result"
    }
   ],
   "source": [
    "manual_time_2 = %timeit -o manual_func_2(A, i, j)\n",
    "manual_func_2(A, i, j)"
   ]
  },
  {
   "cell_type": "code",
   "execution_count": 63,
   "metadata": {},
   "outputs": [
    {
     "data": {
      "image/png": "[encoded data removed]",
      "text/plain": [
       "<Figure size 640x480 with 1 Axes>"
      ]
     },
     "metadata": {},
     "output_type": "display_data"
    }
   ],
   "source": [
    "y_axis = [timeit_to_float(time_2), timeit_to_float(best_time_2), timeit_to_float(manual_time_2)]\n",
    "x_axis = ['func_2', 'best_func_2', 'manual_finc_2']\n",
    "plt.bar(x_axis, y_axis)\n",
    "plt.show()"
   ]
  },
  {
   "cell_type": "code",
   "execution_count": 64,
   "metadata": {},
   "outputs": [],
   "source": [
    "A = np.random.randint(0, 30, (10000, 10000))\n",
    "i = np.random.randint(0, len(A), len(A))\n",
    "j = np.random.randint(0, len(A[0]), len(A[0]))"
   ]
  },
  {
   "cell_type": "code",
   "execution_count": 65,
   "metadata": {},
   "outputs": [
    {
     "name": "stdout",
     "output_type": "stream",
     "text": [
      "5.04 s ± 87.8 ms per loop (mean ± std. dev. of 7 runs, 1 loop each)\n"
     ]
    },
    {
     "data": {
      "text/plain": [
       "array([23, 18, 16, ..., 29, 28, 29])"
      ]
     },
     "execution_count": 65,
     "metadata": {},
     "output_type": "execute_result"
    }
   ],
   "source": [
    "time_2 = %timeit -o func_2(A, i, j)\n",
    "func_2(A, i, j)"
   ]
  },
  {
   "cell_type": "code",
   "execution_count": 66,
   "metadata": {},
   "outputs": [
    {
     "name": "stdout",
     "output_type": "stream",
     "text": [
      "611 µs ± 76 µs per loop (mean ± std. dev. of 7 runs, 1,000 loops each)\n"
     ]
    },
    {
     "data": {
      "text/plain": [
       "array([23, 18, 16, ..., 29, 28, 29])"
      ]
     },
     "execution_count": 66,
     "metadata": {},
     "output_type": "execute_result"
    }
   ],
   "source": [
    "best_time_2 = %timeit -o best_func_2(A, i, j)\n",
    "best_func_2(A, i, j)"
   ]
  },
  {
   "cell_type": "code",
   "execution_count": 67,
   "metadata": {},
   "outputs": [
    {
     "name": "stdout",
     "output_type": "stream",
     "text": [
      "11.7 ms ± 512 µs per loop (mean ± std. dev. of 7 runs, 100 loops each)\n"
     ]
    },
    {
     "data": {
      "text/plain": [
       "array([23, 18, 16, ..., 29, 28, 29])"
      ]
     },
     "execution_count": 67,
     "metadata": {},
     "output_type": "execute_result"
    }
   ],
   "source": [
    "manual_time_2 = %timeit -o manual_func_2(A, i, j)\n",
    "manual_func_2(A, i, j)"
   ]
  },
  {
   "cell_type": "code",
   "execution_count": 68,
   "metadata": {},
   "outputs": [
    {
     "data": {
      "image/png": "[encoded data removed]",
      "text/plain": [
       "<Figure size 640x480 with 1 Axes>"
      ]
     },
     "metadata": {},
     "output_type": "display_data"
    }
   ],
   "source": [
    "y_axis = [timeit_to_float(time_2), timeit_to_float(best_time_2), timeit_to_float(manual_time_2)]\n",
    "x_axis = ['func_2', 'best_func_2', 'manual_finc_2']\n",
    "plt.bar(x_axis, y_axis)\n",
    "plt.show()"
   ]
  },
  {
   "cell_type": "markdown",
   "metadata": {},
   "source": [
    "### 3. Даны два вектора x и y. Проверить, задают ли они одно и то же мультимножество. \n",
    "Для x = np.array([1, 2, 2, 4]), y = np.array([4, 2, 1, 2]) ответ True."
   ]
  },
  {
   "cell_type": "markdown",
   "metadata": {},
   "source": [
    "#### 3.1"
   ]
  },
  {
   "cell_type": "code",
   "execution_count": 69,
   "metadata": {},
   "outputs": [],
   "source": [
    "def func_3(vec1, vec2):\n",
    "    '''Если векторы задают одно и то же мультимножество, то их отсортированные версии должны полностью совпадать'''\n",
    "    a = sorted(vec1)\n",
    "    b = sorted(vec2)\n",
    "    if len(a) == len(b):\n",
    "        for i in range(len(a)):\n",
    "            if a[i] != b[i]:\n",
    "                return False\n",
    "        return True\n",
    "    \n",
    "    else:\n",
    "        return False"
   ]
  },
  {
   "cell_type": "markdown",
   "metadata": {},
   "source": [
    "#### 3.2"
   ]
  },
  {
   "cell_type": "code",
   "execution_count": 70,
   "metadata": {},
   "outputs": [],
   "source": [
    "def best_func_3(vec1, vec2):\n",
    "    '''Проверка на совпадение с помощью функции numpy.array_equal()'''\n",
    "    return np.array_equal(np.sort(vec1), np.sort(vec2))"
   ]
  },
  {
   "cell_type": "markdown",
   "metadata": {},
   "source": [
    "#### 3.3"
   ]
  },
  {
   "cell_type": "code",
   "execution_count": 71,
   "metadata": {},
   "outputs": [],
   "source": [
    "def manual_func_3(vec1, vec2):\n",
    "    '''Если вычесть два отсортированных массива, задающих одно и то же мультимножество, то получится нулевой массив'''\n",
    "    a = np.array(sorted(vec1))\n",
    "    b = np.array(sorted(vec2))\n",
    "    if len(a) == len(b):\n",
    "        return np.array_equal((a - b), np.zeros_like(vec1))\n",
    "    else:\n",
    "        return False"
   ]
  },
  {
   "cell_type": "markdown",
   "metadata": {},
   "source": [
    "### Тесты эффективности"
   ]
  },
  {
   "cell_type": "code",
   "execution_count": 72,
   "metadata": {},
   "outputs": [],
   "source": [
    "x = np.random.randint(0, 4, 100)\n",
    "y = np.random.randint(0, 4, 100)"
   ]
  },
  {
   "cell_type": "code",
   "execution_count": 73,
   "metadata": {},
   "outputs": [
    {
     "name": "stdout",
     "output_type": "stream",
     "text": [
      "62.8 µs ± 813 ns per loop (mean ± std. dev. of 7 runs, 10,000 loops each)\n"
     ]
    },
    {
     "data": {
      "text/plain": [
       "False"
      ]
     },
     "execution_count": 73,
     "metadata": {},
     "output_type": "execute_result"
    }
   ],
   "source": [
    "time_3 = %timeit -o func_3(x, y)\n",
    "func_3(x, y)"
   ]
  },
  {
   "cell_type": "code",
   "execution_count": 74,
   "metadata": {},
   "outputs": [
    {
     "name": "stdout",
     "output_type": "stream",
     "text": [
      "14.5 µs ± 319 ns per loop (mean ± std. dev. of 7 runs, 100,000 loops each)\n"
     ]
    },
    {
     "data": {
      "text/plain": [
       "False"
      ]
     },
     "execution_count": 74,
     "metadata": {},
     "output_type": "execute_result"
    }
   ],
   "source": [
    "best_time_3 = %timeit -o best_func_3(x, y)\n",
    "best_func_3(x, y)"
   ]
  },
  {
   "cell_type": "code",
   "execution_count": 75,
   "metadata": {},
   "outputs": [
    {
     "name": "stdout",
     "output_type": "stream",
     "text": [
      "102 µs ± 1.2 µs per loop (mean ± std. dev. of 7 runs, 10,000 loops each)\n"
     ]
    },
    {
     "data": {
      "text/plain": [
       "False"
      ]
     },
     "execution_count": 75,
     "metadata": {},
     "output_type": "execute_result"
    }
   ],
   "source": [
    "manual_time_3 = %timeit -o manual_func_3(x, y)\n",
    "manual_func_3(x, y)"
   ]
  },
  {
   "cell_type": "code",
   "execution_count": 76,
   "metadata": {},
   "outputs": [
    {
     "data": {
      "image/png": "[encoded data removed]",
      "text/plain": [
       "<Figure size 640x480 with 1 Axes>"
      ]
     },
     "metadata": {},
     "output_type": "display_data"
    }
   ],
   "source": [
    "y_axis = [timeit_to_float(time_3), timeit_to_float(best_time_3), timeit_to_float(manual_time_3)]\n",
    "x_axis = ['func_3', 'best_func_3', 'manual_finc_3']\n",
    "plt.bar(x_axis, y_axis)\n",
    "plt.show()"
   ]
  },
  {
   "cell_type": "code",
   "execution_count": 77,
   "metadata": {},
   "outputs": [],
   "source": [
    "x = np.random.randint(0, 4, 1000)\n",
    "y = np.random.randint(0, 4, 1000)"
   ]
  },
  {
   "cell_type": "code",
   "execution_count": 78,
   "metadata": {},
   "outputs": [
    {
     "name": "stdout",
     "output_type": "stream",
     "text": [
      "693 µs ± 20.5 µs per loop (mean ± std. dev. of 7 runs, 1,000 loops each)\n"
     ]
    },
    {
     "data": {
      "text/plain": [
       "False"
      ]
     },
     "execution_count": 78,
     "metadata": {},
     "output_type": "execute_result"
    }
   ],
   "source": [
    "time_3 = %timeit -o func_3(x, y)\n",
    "func_3(x, y)"
   ]
  },
  {
   "cell_type": "code",
   "execution_count": 79,
   "metadata": {},
   "outputs": [
    {
     "name": "stdout",
     "output_type": "stream",
     "text": [
      "38.1 µs ± 618 ns per loop (mean ± std. dev. of 7 runs, 10,000 loops each)\n"
     ]
    },
    {
     "data": {
      "text/plain": [
       "False"
      ]
     },
     "execution_count": 79,
     "metadata": {},
     "output_type": "execute_result"
    }
   ],
   "source": [
    "best_time_3 = %timeit -o best_func_3(x, y)\n",
    "best_func_3(x, y)"
   ]
  },
  {
   "cell_type": "code",
   "execution_count": 80,
   "metadata": {},
   "outputs": [
    {
     "name": "stdout",
     "output_type": "stream",
     "text": [
      "882 µs ± 20.3 µs per loop (mean ± std. dev. of 7 runs, 1,000 loops each)\n"
     ]
    },
    {
     "data": {
      "text/plain": [
       "False"
      ]
     },
     "execution_count": 80,
     "metadata": {},
     "output_type": "execute_result"
    }
   ],
   "source": [
    "manual_time_3 = %timeit -o manual_func_3(x, y)\n",
    "manual_func_3(x, y)"
   ]
  },
  {
   "cell_type": "code",
   "execution_count": 81,
   "metadata": {},
   "outputs": [
    {
     "data": {
      "image/png": "[encoded data removed]",
      "text/plain": [
       "<Figure size 640x480 with 1 Axes>"
      ]
     },
     "metadata": {},
     "output_type": "display_data"
    }
   ],
   "source": [
    "y_axis = [timeit_to_float(time_3), timeit_to_float(best_time_3), timeit_to_float(manual_time_3)]\n",
    "x_axis = ['func_3', 'best_func_3', 'manual_finc_3']\n",
    "plt.bar(x_axis, y_axis)\n",
    "plt.show()"
   ]
  },
  {
   "cell_type": "code",
   "execution_count": 82,
   "metadata": {},
   "outputs": [],
   "source": [
    "x = np.random.randint(0, 4, 10000)\n",
    "y = np.random.randint(0, 4, 10000)"
   ]
  },
  {
   "cell_type": "code",
   "execution_count": 83,
   "metadata": {},
   "outputs": [
    {
     "name": "stdout",
     "output_type": "stream",
     "text": [
      "7.19 ms ± 510 µs per loop (mean ± std. dev. of 7 runs, 100 loops each)\n"
     ]
    },
    {
     "data": {
      "text/plain": [
       "False"
      ]
     },
     "execution_count": 83,
     "metadata": {},
     "output_type": "execute_result"
    }
   ],
   "source": [
    "time_3 = %timeit -o func_3(x, y)\n",
    "func_3(x, y)"
   ]
  },
  {
   "cell_type": "code",
   "execution_count": 84,
   "metadata": {},
   "outputs": [
    {
     "name": "stdout",
     "output_type": "stream",
     "text": [
      "566 µs ± 18 µs per loop (mean ± std. dev. of 7 runs, 1,000 loops each)\n"
     ]
    },
    {
     "data": {
      "text/plain": [
       "False"
      ]
     },
     "execution_count": 84,
     "metadata": {},
     "output_type": "execute_result"
    }
   ],
   "source": [
    "best_time_3 = %timeit -o best_func_3(x, y)\n",
    "best_func_3(x, y)"
   ]
  },
  {
   "cell_type": "code",
   "execution_count": 85,
   "metadata": {},
   "outputs": [
    {
     "name": "stdout",
     "output_type": "stream",
     "text": [
      "9.06 ms ± 195 µs per loop (mean ± std. dev. of 7 runs, 100 loops each)\n"
     ]
    },
    {
     "data": {
      "text/plain": [
       "False"
      ]
     },
     "execution_count": 85,
     "metadata": {},
     "output_type": "execute_result"
    }
   ],
   "source": [
    "manual_time_3 = %timeit -o manual_func_3(x, y)\n",
    "manual_func_3(x, y)"
   ]
  },
  {
   "cell_type": "code",
   "execution_count": 86,
   "metadata": {},
   "outputs": [
    {
     "data": {
      "image/png": "[encoded data removed]",
      "text/plain": [
       "<Figure size 640x480 with 1 Axes>"
      ]
     },
     "metadata": {},
     "output_type": "display_data"
    }
   ],
   "source": [
    "y_axis = [timeit_to_float(time_3), timeit_to_float(best_time_3), timeit_to_float(manual_time_3)]\n",
    "x_axis = ['func_3', 'best_func_3', 'manual_finc_3']\n",
    "plt.bar(x_axis, y_axis)\n",
    "plt.show()"
   ]
  },
  {
   "cell_type": "markdown",
   "metadata": {},
   "source": [
    "### 4. Найти максимальный элемент в векторе x среди элементов, перед которыми стоит нулевой. \n",
    "Для x = np.array([6, 2, 0, 3, 0, 0, 5, 7, 0]) ответ 5."
   ]
  },
  {
   "cell_type": "markdown",
   "metadata": {},
   "source": [
    "#### 4.1"
   ]
  },
  {
   "cell_type": "code",
   "execution_count": 112,
   "metadata": {},
   "outputs": [],
   "source": [
    "from math import inf\n",
    "\n",
    "def func_4(array):\n",
    "    '''Нахождение нужного элемента по соответствующему условию'''\n",
    "    ans = -inf\n",
    "    for i in range(1, len(array)):\n",
    "        if array[i - 1] == 0 and array[i] > ans:\n",
    "            ans = array[i]\n",
    "    return ans"
   ]
  },
  {
   "cell_type": "markdown",
   "metadata": {},
   "source": [
    "#### 4.2"
   ]
  },
  {
   "cell_type": "code",
   "execution_count": 113,
   "metadata": {},
   "outputs": [],
   "source": [
    "def best_func_4(array):\n",
    "    '''Создаем маску разностей соседних элементов. Если предыдущий элемент равен нулю, то значение в маске совпадает\n",
    "    со значением в исходном массиве'''\n",
    "    mask = np.array(np.diff(array))\n",
    "    new_array = array[1:]\n",
    "    if 0 in array:\n",
    "        return max(new_array[np.where(new_array==mask)])\n",
    "    else:\n",
    "        return -inf"
   ]
  },
  {
   "cell_type": "markdown",
   "metadata": {},
   "source": [
    "#### 4.3"
   ]
  },
  {
   "cell_type": "code",
   "execution_count": 114,
   "metadata": {},
   "outputs": [],
   "source": [
    "def manual_func_4(array):\n",
    "    '''Можно сделать лаконичную запись с помощью генератора списков'''\n",
    "    new_array = [array[i] for i in range(1, len(array)) if array[i - 1] == 0]\n",
    "    if len(new_array) > 0:\n",
    "        return max(new_array)\n",
    "    else:\n",
    "        return -inf"
   ]
  },
  {
   "cell_type": "markdown",
   "metadata": {},
   "source": [
    "### Тесты эффективности"
   ]
  },
  {
   "cell_type": "code",
   "execution_count": 115,
   "metadata": {},
   "outputs": [],
   "source": [
    "x = np.random.randint(0, 1000, 1000)"
   ]
  },
  {
   "cell_type": "code",
   "execution_count": 116,
   "metadata": {},
   "outputs": [
    {
     "name": "stdout",
     "output_type": "stream",
     "text": [
      "308 µs ± 4.94 µs per loop (mean ± std. dev. of 7 runs, 1,000 loops each)\n"
     ]
    },
    {
     "data": {
      "text/plain": [
       "144"
      ]
     },
     "execution_count": 116,
     "metadata": {},
     "output_type": "execute_result"
    }
   ],
   "source": [
    "time_4 = %timeit -o func_4(x)\n",
    "func_4(x)"
   ]
  },
  {
   "cell_type": "code",
   "execution_count": 117,
   "metadata": {},
   "outputs": [
    {
     "name": "stdout",
     "output_type": "stream",
     "text": [
      "29.2 µs ± 1.21 µs per loop (mean ± std. dev. of 7 runs, 10,000 loops each)\n"
     ]
    },
    {
     "data": {
      "text/plain": [
       "144"
      ]
     },
     "execution_count": 117,
     "metadata": {},
     "output_type": "execute_result"
    }
   ],
   "source": [
    "best_time_4 = %timeit -o best_func_4(x)\n",
    "best_func_4(x)"
   ]
  },
  {
   "cell_type": "code",
   "execution_count": 118,
   "metadata": {},
   "outputs": [
    {
     "name": "stdout",
     "output_type": "stream",
     "text": [
      "289 µs ± 9.24 µs per loop (mean ± std. dev. of 7 runs, 1,000 loops each)\n"
     ]
    },
    {
     "data": {
      "text/plain": [
       "144"
      ]
     },
     "execution_count": 118,
     "metadata": {},
     "output_type": "execute_result"
    }
   ],
   "source": [
    "manual_time_4 = %timeit -o manual_func_4(x)\n",
    "manual_func_4(x)"
   ]
  },
  {
   "cell_type": "code",
   "execution_count": 119,
   "metadata": {},
   "outputs": [
    {
     "data": {
      "image/png": "[encoded data removed]",
      "text/plain": [
       "<Figure size 640x480 with 1 Axes>"
      ]
     },
     "metadata": {},
     "output_type": "display_data"
    }
   ],
   "source": [
    "y_axis = [timeit_to_float(time_4), timeit_to_float(best_time_4), timeit_to_float(manual_time_4)]\n",
    "x_axis = ['func_4', 'best_func_4', 'manual_finc_4']\n",
    "plt.bar(x_axis, y_axis)\n",
    "plt.show()"
   ]
  },
  {
   "cell_type": "code",
   "execution_count": 120,
   "metadata": {},
   "outputs": [],
   "source": [
    "x = np.random.randint(0, 1000, 10000)"
   ]
  },
  {
   "cell_type": "code",
   "execution_count": 121,
   "metadata": {},
   "outputs": [
    {
     "name": "stdout",
     "output_type": "stream",
     "text": [
      "3.35 ms ± 84.1 µs per loop (mean ± std. dev. of 7 runs, 100 loops each)\n"
     ]
    },
    {
     "data": {
      "text/plain": [
       "986"
      ]
     },
     "execution_count": 121,
     "metadata": {},
     "output_type": "execute_result"
    }
   ],
   "source": [
    "time_4 = %timeit -o func_4(x)\n",
    "func_4(x)"
   ]
  },
  {
   "cell_type": "code",
   "execution_count": 122,
   "metadata": {},
   "outputs": [
    {
     "name": "stdout",
     "output_type": "stream",
     "text": [
      "72.3 µs ± 1.63 µs per loop (mean ± std. dev. of 7 runs, 10,000 loops each)\n"
     ]
    },
    {
     "data": {
      "text/plain": [
       "986"
      ]
     },
     "execution_count": 122,
     "metadata": {},
     "output_type": "execute_result"
    }
   ],
   "source": [
    "best_time_4 = %timeit -o best_func_4(x)\n",
    "best_func_4(x)"
   ]
  },
  {
   "cell_type": "code",
   "execution_count": 123,
   "metadata": {},
   "outputs": [
    {
     "name": "stdout",
     "output_type": "stream",
     "text": [
      "2.98 ms ± 66.2 µs per loop (mean ± std. dev. of 7 runs, 100 loops each)\n"
     ]
    },
    {
     "data": {
      "text/plain": [
       "986"
      ]
     },
     "execution_count": 123,
     "metadata": {},
     "output_type": "execute_result"
    }
   ],
   "source": [
    "manual_time_4 = %timeit -o manual_func_4(x)\n",
    "manual_func_4(x)"
   ]
  },
  {
   "cell_type": "code",
   "execution_count": 124,
   "metadata": {},
   "outputs": [
    {
     "data": {
      "image/png": "[encoded data removed]",
      "text/plain": [
       "<Figure size 640x480 with 1 Axes>"
      ]
     },
     "metadata": {},
     "output_type": "display_data"
    }
   ],
   "source": [
    "y_axis = [timeit_to_float(time_4), timeit_to_float(best_time_4), timeit_to_float(manual_time_4)]\n",
    "x_axis = ['func_4', 'best_func_4', 'manual_finc_4']\n",
    "plt.bar(x_axis, y_axis)\n",
    "plt.show()"
   ]
  },
  {
   "cell_type": "code",
   "execution_count": 125,
   "metadata": {},
   "outputs": [],
   "source": [
    "x = np.random.randint(0, 1000, 100000)"
   ]
  },
  {
   "cell_type": "code",
   "execution_count": 126,
   "metadata": {},
   "outputs": [
    {
     "name": "stdout",
     "output_type": "stream",
     "text": [
      "32 ms ± 618 µs per loop (mean ± std. dev. of 7 runs, 10 loops each)\n"
     ]
    },
    {
     "data": {
      "text/plain": [
       "989"
      ]
     },
     "execution_count": 126,
     "metadata": {},
     "output_type": "execute_result"
    }
   ],
   "source": [
    "time_4 = %timeit -o func_4(x)\n",
    "func_4(x)"
   ]
  },
  {
   "cell_type": "code",
   "execution_count": 127,
   "metadata": {},
   "outputs": [
    {
     "name": "stdout",
     "output_type": "stream",
     "text": [
      "488 µs ± 11.3 µs per loop (mean ± std. dev. of 7 runs, 1,000 loops each)\n"
     ]
    },
    {
     "data": {
      "text/plain": [
       "989"
      ]
     },
     "execution_count": 127,
     "metadata": {},
     "output_type": "execute_result"
    }
   ],
   "source": [
    "best_time_4 = %timeit -o best_func_4(x)\n",
    "best_func_4(x)"
   ]
  },
  {
   "cell_type": "code",
   "execution_count": 128,
   "metadata": {},
   "outputs": [
    {
     "name": "stdout",
     "output_type": "stream",
     "text": [
      "30.6 ms ± 1.22 ms per loop (mean ± std. dev. of 7 runs, 10 loops each)\n"
     ]
    },
    {
     "data": {
      "text/plain": [
       "989"
      ]
     },
     "execution_count": 128,
     "metadata": {},
     "output_type": "execute_result"
    }
   ],
   "source": [
    "manual_time_4 = %timeit -o manual_func_4(x)\n",
    "manual_func_4(x)"
   ]
  },
  {
   "cell_type": "code",
   "execution_count": 129,
   "metadata": {},
   "outputs": [
    {
     "data": {
      "image/png": "[encoded data removed]",
      "text/plain": [
       "<Figure size 640x480 with 1 Axes>"
      ]
     },
     "metadata": {},
     "output_type": "display_data"
    }
   ],
   "source": [
    "y_axis = [timeit_to_float(time_4), timeit_to_float(best_time_4), timeit_to_float(manual_time_4)]\n",
    "x_axis = ['func_4', 'best_func_4', 'manual_finc_4']\n",
    "plt.bar(x_axis, y_axis)\n",
    "plt.show()"
   ]
  },
  {
   "cell_type": "markdown",
   "metadata": {},
   "source": [
    "### 5. Дан трёхмерный массив, содержащий изображение, размера (height, width, numChannels), а также вектор длины numChannels. Сложить каналы изображения с указанными весами, и вернуть результат в виде матрицы размера (height, width). Считать реальное изображение можно при помощи функции scipy.misc.imread (если изображение не в формате png, установите пакет pillow: conda install pillow). Преобразуйте цветное изображение в оттенки серого, использовав коэффициенты np.array([0.299, 0.587, 0.114])."
   ]
  },
  {
   "cell_type": "markdown",
   "metadata": {},
   "source": [
    "#### 5.1"
   ]
  },
  {
   "cell_type": "code",
   "execution_count": 130,
   "metadata": {},
   "outputs": [],
   "source": [
    "def func_5(array, coeff):\n",
    "    '''Для каждого элемента в новом массиве вычисляем его как взвешенную сумму элементов соответствующего\n",
    "    пикселя изображения'''\n",
    "    new_array = []\n",
    "    for i in range(len(array)):\n",
    "        for j in range(len(array[0])):\n",
    "            new_array.append((np.uint8((coeff[0] * array[i][j][0]) + (coeff[1] * array[i][j][1]) + (coeff[2] * array[i][j][2]))))\n",
    "    new_array = np.array(new_array)\n",
    "    new_array.resize(array.shape[:-1])\n",
    "    return new_array"
   ]
  },
  {
   "cell_type": "markdown",
   "metadata": {},
   "source": [
    "#### 5.2"
   ]
  },
  {
   "cell_type": "code",
   "execution_count": 131,
   "metadata": {},
   "outputs": [],
   "source": [
    "def best_func_5(array, coeff):\n",
    "    '''Взвешенную сумму для всей матрицы можно найти как матричное произведение исходной матрицы на вектор коэффициентов'''\n",
    "    new_array = np.array(np.dot(np.array(array)[:, :], coeff), dtype = np.uint8)\n",
    "    return new_array"
   ]
  },
  {
   "cell_type": "markdown",
   "metadata": {},
   "source": [
    "#### 5.3"
   ]
  },
  {
   "cell_type": "code",
   "execution_count": 132,
   "metadata": {},
   "outputs": [],
   "source": [
    "def manual_func_5(array, coeff):\n",
    "    '''С помощью генератора списков сразу вычисляем новый элемент как взвешенную сумму пикселя'''\n",
    "    new_array = [[np.uint8(sum(elem * coeff)) for elem in row] for row in array]\n",
    "    return np.array(new_array)"
   ]
  },
  {
   "cell_type": "markdown",
   "metadata": {},
   "source": [
    "### Тесты эффективности"
   ]
  },
  {
   "cell_type": "code",
   "execution_count": 133,
   "metadata": {
    "scrolled": true
   },
   "outputs": [
    {
     "name": "stderr",
     "output_type": "stream",
     "text": [
      "C:\\Users\\user\\AppData\\Local\\Temp\\ipykernel_9692\\1397276676.py:2: DeprecationWarning: Starting with ImageIO v3 the behavior of this function will switch to that of iio.v3.imread. To keep the current behavior (and make this warning disappear) use `import imageio.v2 as imageio` or call `imageio.v2.imread` directly.\n",
      "  im = imageio.imread('Guido_van_Rossum.png')\n"
     ]
    }
   ],
   "source": [
    "import imageio\n",
    "im = imageio.imread('Guido_van_Rossum.png')"
   ]
  },
  {
   "cell_type": "code",
   "execution_count": 134,
   "metadata": {},
   "outputs": [
    {
     "name": "stdout",
     "output_type": "stream",
     "text": [
      "4.2 s ± 29.4 ms per loop (mean ± std. dev. of 7 runs, 1 loop each)\n"
     ]
    }
   ],
   "source": [
    "time_5 = %timeit -o imageio.imwrite('gray.png', func_5(im, [0.299, 0.587, 0.114]))\n",
    "imageio.imwrite('gray.png', func_5(im, [0.299, 0.587, 0.114]))"
   ]
  },
  {
   "cell_type": "code",
   "execution_count": 135,
   "metadata": {},
   "outputs": [
    {
     "name": "stdout",
     "output_type": "stream",
     "text": [
      "51.7 ms ± 1.78 ms per loop (mean ± std. dev. of 7 runs, 10 loops each)\n"
     ]
    }
   ],
   "source": [
    "best_time_5 = %timeit -o imageio.imwrite('best_gray.png', best_func_5(im, [0.299, 0.587, 0.114]))\n",
    "imageio.imwrite('best_gray.png', best_func_5(im, [0.299, 0.587, 0.114]))"
   ]
  },
  {
   "cell_type": "code",
   "execution_count": 136,
   "metadata": {
    "scrolled": true
   },
   "outputs": [
    {
     "name": "stdout",
     "output_type": "stream",
     "text": [
      "2.74 s ± 23.5 ms per loop (mean ± std. dev. of 7 runs, 1 loop each)\n"
     ]
    }
   ],
   "source": [
    "manual_time_5 = %timeit -o imageio.imwrite('manual.png', manual_func_5(im, [0.299, 0.587, 0.114]))\n",
    "imageio.imwrite('manual.png', manual_func_5(im, [0.299, 0.587, 0.114]))"
   ]
  },
  {
   "cell_type": "code",
   "execution_count": 137,
   "metadata": {},
   "outputs": [
    {
     "data": {
      "image/png": "[encoded data removed]",
      "text/plain": [
       "<Figure size 640x480 with 1 Axes>"
      ]
     },
     "metadata": {},
     "output_type": "display_data"
    }
   ],
   "source": [
    "y_axis = [timeit_to_float(time_5), timeit_to_float(best_time_5), timeit_to_float(manual_time_5)]\n",
    "x_axis = ['func_5', 'best_func_5', 'manual_finc_5']\n",
    "plt.bar(x_axis, y_axis)\n",
    "plt.show()"
   ]
  },
  {
   "cell_type": "markdown",
   "metadata": {},
   "source": [
    "### 6. Реализовать кодирование длин серий (Run-length encoding). Дан вектор x. Необходимо вернуть кортеж из двух векторов одинаковой длины. Первый содержит числа, а второй - сколько раз их нужно повторить. \n",
    "Пример: x = np.array([2, 2, 2, 3, 3, 3, 5, 2, 2]). Ответ: (np.array([2, 3, 5, 2]), np.array([3, 3, 1, 2]))."
   ]
  },
  {
   "cell_type": "markdown",
   "metadata": {},
   "source": [
    "#### 6.1"
   ]
  },
  {
   "cell_type": "code",
   "execution_count": 138,
   "metadata": {},
   "outputs": [],
   "source": [
    "def func_6(array):\n",
    "    '''В цикле проверяем, равен ли текущий элемент предыдущему. Если да, то инкрементируем счетчик, иначе будет\n",
    "    новая последовательности чисел; счетчик сбрасывается, в массив чисел добавляется предыдущее чсисло, в массив\n",
    "    повторений - число его повторений'''\n",
    "    if len(array) == 0:\n",
    "        return ([], [])\n",
    "    numbers = []\n",
    "    counts = []\n",
    "    count = 1\n",
    "    for i in range(1, len(array)):\n",
    "        if array[i] == array[i - 1]:\n",
    "            count += 1\n",
    "        else:\n",
    "            numbers.append(array[i - 1])\n",
    "            counts.append(count)\n",
    "            count = 1\n",
    "    \n",
    "    numbers.append(array[-1])\n",
    "    counts.append(count)\n",
    "    return (np.array(numbers), np.array(counts))"
   ]
  },
  {
   "cell_type": "markdown",
   "metadata": {},
   "source": [
    "#### 6.2"
   ]
  },
  {
   "cell_type": "code",
   "execution_count": 139,
   "metadata": {},
   "outputs": [],
   "source": [
    "def best_func_6(array):\n",
    "    '''Создаем маску разностей. Если маска разностей не равна нулю, то на этом месте в массиве рядом стоят разные числа'''\n",
    "    mask = np.diff(array)\n",
    "    x = array[0]\n",
    "    y = array[1:][np.where(mask != 0)]\n",
    "    \n",
    "    ind = np.where(mask)[0]\n",
    "    counts = np.concatenate(([ind[0] + 1], np.diff(ind), [array.size - ind[-1] - 1]))\n",
    "    return np.hstack((x, y)), counts"
   ]
  },
  {
   "cell_type": "markdown",
   "metadata": {},
   "source": [
    "#### 6.3"
   ]
  },
  {
   "cell_type": "code",
   "execution_count": 140,
   "metadata": {},
   "outputs": [],
   "source": [
    "def manual_func_6(array):\n",
    "    '''Заведем новый массив, элементами которого будут пары число - количество его последовательных повторений.\n",
    "    Для возвращаемого значения разобьем его на два массива: один из чисел, другой из количества их повторений'''\n",
    "    new_array = [[array[0], 1]]\n",
    "    for elem in array[1:]:\n",
    "        if new_array[-1][0] == elem:\n",
    "            new_array[-1][1] += 1\n",
    "        else:\n",
    "            new_array.append([elem, 1])\n",
    "    return np.array(new_array)[:, 0], np.array(new_array)[:, 1]"
   ]
  },
  {
   "cell_type": "markdown",
   "metadata": {},
   "source": [
    "### Тесты эффективности"
   ]
  },
  {
   "cell_type": "code",
   "execution_count": 183,
   "metadata": {},
   "outputs": [],
   "source": [
    "x = np.random.randint(0, 10, 10)"
   ]
  },
  {
   "cell_type": "code",
   "execution_count": 184,
   "metadata": {},
   "outputs": [
    {
     "name": "stdout",
     "output_type": "stream",
     "text": [
      "12 µs ± 156 ns per loop (mean ± std. dev. of 7 runs, 100,000 loops each)\n"
     ]
    },
    {
     "data": {
      "text/plain": [
       "(array([6, 3, 0, 3, 6, 8, 2, 1, 9, 3]), array([1, 1, 1, 1, 1, 1, 1, 1, 1, 1]))"
      ]
     },
     "execution_count": 184,
     "metadata": {},
     "output_type": "execute_result"
    }
   ],
   "source": [
    "time_6 = %timeit -o func_6(x)\n",
    "func_6(x)"
   ]
  },
  {
   "cell_type": "code",
   "execution_count": 185,
   "metadata": {},
   "outputs": [
    {
     "name": "stdout",
     "output_type": "stream",
     "text": [
      "42 µs ± 1.04 µs per loop (mean ± std. dev. of 7 runs, 10,000 loops each)\n"
     ]
    },
    {
     "data": {
      "text/plain": [
       "(array([6, 3, 0, 3, 6, 8, 2, 1, 9, 3]),\n",
       " array([1, 1, 1, 1, 1, 1, 1, 1, 1, 1], dtype=int64))"
      ]
     },
     "execution_count": 185,
     "metadata": {},
     "output_type": "execute_result"
    }
   ],
   "source": [
    "best_time_6 = %timeit -o best_func_6(x)\n",
    "best_func_6(x)"
   ]
  },
  {
   "cell_type": "code",
   "execution_count": 186,
   "metadata": {},
   "outputs": [
    {
     "name": "stdout",
     "output_type": "stream",
     "text": [
      "21.5 µs ± 623 ns per loop (mean ± std. dev. of 7 runs, 10,000 loops each)\n"
     ]
    },
    {
     "data": {
      "text/plain": [
       "(array([6, 3, 0, 3, 6, 8, 2, 1, 9, 3]), array([1, 1, 1, 1, 1, 1, 1, 1, 1, 1]))"
      ]
     },
     "execution_count": 186,
     "metadata": {},
     "output_type": "execute_result"
    }
   ],
   "source": [
    "manual_time_6 = %timeit -o manual_func_6(x)\n",
    "manual_func_6(x)"
   ]
  },
  {
   "cell_type": "code",
   "execution_count": 187,
   "metadata": {},
   "outputs": [
    {
     "data": {
      "image/png": "[encoded data removed]",
      "text/plain": [
       "<Figure size 640x480 with 1 Axes>"
      ]
     },
     "metadata": {},
     "output_type": "display_data"
    }
   ],
   "source": [
    "y_axis = [timeit_to_float(time_6), timeit_to_float(best_time_6), timeit_to_float(manual_time_6)]\n",
    "x_axis = ['func_6', 'best_func_6', 'manual_finc_6']\n",
    "plt.bar(x_axis, y_axis)\n",
    "plt.show()"
   ]
  },
  {
   "cell_type": "code",
   "execution_count": 188,
   "metadata": {},
   "outputs": [],
   "source": [
    "x = np.random.randint(0, 10, 100)"
   ]
  },
  {
   "cell_type": "code",
   "execution_count": 189,
   "metadata": {},
   "outputs": [
    {
     "name": "stdout",
     "output_type": "stream",
     "text": [
      "95.5 µs ± 2.94 µs per loop (mean ± std. dev. of 7 runs, 10,000 loops each)\n"
     ]
    },
    {
     "data": {
      "text/plain": [
       "(array([3, 6, 5, 2, 5, 4, 8, 3, 0, 4, 9, 2, 8, 5, 3, 8, 0, 5, 1, 3, 5, 8,\n",
       "        5, 1, 5, 6, 8, 5, 1, 3, 9, 2, 3, 1, 4, 7, 0, 3, 6, 2, 8, 1, 4, 7,\n",
       "        1, 7, 9, 4, 0, 1, 3, 8, 6, 9, 8, 0, 6, 3, 6, 9, 6, 7, 0, 2, 9, 1,\n",
       "        0, 5, 8, 0, 2, 0, 7, 6, 5, 2, 6, 5, 6, 9, 0, 6, 0, 2, 3, 2, 1]),\n",
       " array([1, 1, 1, 1, 1, 1, 1, 1, 1, 1, 1, 1, 1, 1, 1, 1, 1, 1, 1, 1, 1, 1,\n",
       "        1, 2, 1, 2, 1, 1, 1, 2, 2, 1, 2, 1, 1, 1, 1, 1, 1, 2, 1, 1, 1, 1,\n",
       "        1, 1, 1, 1, 1, 2, 1, 1, 1, 1, 1, 1, 1, 1, 2, 2, 1, 1, 1, 1, 1, 1,\n",
       "        1, 1, 1, 1, 1, 1, 1, 1, 2, 2, 1, 1, 1, 2, 1, 1, 2, 1, 1, 1, 1]))"
      ]
     },
     "execution_count": 189,
     "metadata": {},
     "output_type": "execute_result"
    }
   ],
   "source": [
    "time_6 = %timeit -o func_6(x)\n",
    "func_6(x)"
   ]
  },
  {
   "cell_type": "code",
   "execution_count": 190,
   "metadata": {},
   "outputs": [
    {
     "name": "stdout",
     "output_type": "stream",
     "text": [
      "42.4 µs ± 2.47 µs per loop (mean ± std. dev. of 7 runs, 10,000 loops each)\n"
     ]
    },
    {
     "data": {
      "text/plain": [
       "(array([3, 6, 5, 2, 5, 4, 8, 3, 0, 4, 9, 2, 8, 5, 3, 8, 0, 5, 1, 3, 5, 8,\n",
       "        5, 1, 5, 6, 8, 5, 1, 3, 9, 2, 3, 1, 4, 7, 0, 3, 6, 2, 8, 1, 4, 7,\n",
       "        1, 7, 9, 4, 0, 1, 3, 8, 6, 9, 8, 0, 6, 3, 6, 9, 6, 7, 0, 2, 9, 1,\n",
       "        0, 5, 8, 0, 2, 0, 7, 6, 5, 2, 6, 5, 6, 9, 0, 6, 0, 2, 3, 2, 1]),\n",
       " array([1, 1, 1, 1, 1, 1, 1, 1, 1, 1, 1, 1, 1, 1, 1, 1, 1, 1, 1, 1, 1, 1,\n",
       "        1, 2, 1, 2, 1, 1, 1, 2, 2, 1, 2, 1, 1, 1, 1, 1, 1, 2, 1, 1, 1, 1,\n",
       "        1, 1, 1, 1, 1, 2, 1, 1, 1, 1, 1, 1, 1, 1, 2, 2, 1, 1, 1, 1, 1, 1,\n",
       "        1, 1, 1, 1, 1, 1, 1, 1, 2, 2, 1, 1, 1, 2, 1, 1, 2, 1, 1, 1, 1],\n",
       "       dtype=int64))"
      ]
     },
     "execution_count": 190,
     "metadata": {},
     "output_type": "execute_result"
    }
   ],
   "source": [
    "best_time_6 = %timeit -o best_func_6(x)\n",
    "best_func_6(x)"
   ]
  },
  {
   "cell_type": "code",
   "execution_count": 191,
   "metadata": {},
   "outputs": [
    {
     "name": "stdout",
     "output_type": "stream",
     "text": [
      "148 µs ± 1.56 µs per loop (mean ± std. dev. of 7 runs, 10,000 loops each)\n"
     ]
    },
    {
     "data": {
      "text/plain": [
       "(array([3, 6, 5, 2, 5, 4, 8, 3, 0, 4, 9, 2, 8, 5, 3, 8, 0, 5, 1, 3, 5, 8,\n",
       "        5, 1, 5, 6, 8, 5, 1, 3, 9, 2, 3, 1, 4, 7, 0, 3, 6, 2, 8, 1, 4, 7,\n",
       "        1, 7, 9, 4, 0, 1, 3, 8, 6, 9, 8, 0, 6, 3, 6, 9, 6, 7, 0, 2, 9, 1,\n",
       "        0, 5, 8, 0, 2, 0, 7, 6, 5, 2, 6, 5, 6, 9, 0, 6, 0, 2, 3, 2, 1]),\n",
       " array([1, 1, 1, 1, 1, 1, 1, 1, 1, 1, 1, 1, 1, 1, 1, 1, 1, 1, 1, 1, 1, 1,\n",
       "        1, 2, 1, 2, 1, 1, 1, 2, 2, 1, 2, 1, 1, 1, 1, 1, 1, 2, 1, 1, 1, 1,\n",
       "        1, 1, 1, 1, 1, 2, 1, 1, 1, 1, 1, 1, 1, 1, 2, 2, 1, 1, 1, 1, 1, 1,\n",
       "        1, 1, 1, 1, 1, 1, 1, 1, 2, 2, 1, 1, 1, 2, 1, 1, 2, 1, 1, 1, 1]))"
      ]
     },
     "execution_count": 191,
     "metadata": {},
     "output_type": "execute_result"
    }
   ],
   "source": [
    "manual_time_6 = %timeit -o manual_func_6(x)\n",
    "manual_func_6(x)"
   ]
  },
  {
   "cell_type": "code",
   "execution_count": 192,
   "metadata": {},
   "outputs": [
    {
     "data": {
      "image/png": "[encoded data removed]",
      "text/plain": [
       "<Figure size 640x480 with 1 Axes>"
      ]
     },
     "metadata": {},
     "output_type": "display_data"
    }
   ],
   "source": [
    "y_axis = [timeit_to_float(time_6), timeit_to_float(best_time_6), timeit_to_float(manual_time_6)]\n",
    "x_axis = ['func_6', 'best_func_6', 'manual_finc_6']\n",
    "plt.bar(x_axis, y_axis)\n",
    "plt.show()"
   ]
  },
  {
   "cell_type": "code",
   "execution_count": 193,
   "metadata": {},
   "outputs": [],
   "source": [
    "x = np.random.randint(0, 10, 1000)"
   ]
  },
  {
   "cell_type": "code",
   "execution_count": 194,
   "metadata": {},
   "outputs": [
    {
     "name": "stdout",
     "output_type": "stream",
     "text": [
      "966 µs ± 9.44 µs per loop (mean ± std. dev. of 7 runs, 1,000 loops each)\n"
     ]
    },
    {
     "data": {
      "text/plain": [
       "(array([9, 3, 7, 2, 6, 5, 4, 7, 4, 1, 5, 1, 3, 7, 3, 2, 8, 1, 5, 7, 5, 1,\n",
       "        4, 3, 6, 2, 8, 9, 5, 8, 6, 1, 4, 1, 4, 7, 2, 7, 0, 3, 4, 6, 2, 6,\n",
       "        2, 6, 3, 6, 1, 0, 1, 8, 7, 2, 1, 9, 1, 9, 0, 9, 2, 0, 9, 3, 1, 2,\n",
       "        8, 7, 2, 4, 6, 7, 2, 8, 1, 2, 1, 2, 4, 6, 5, 2, 7, 0, 8, 2, 0, 6,\n",
       "        8, 2, 1, 9, 7, 3, 5, 8, 7, 1, 7, 6, 4, 8, 5, 2, 3, 8, 2, 5, 6, 7,\n",
       "        8, 7, 0, 4, 8, 3, 9, 1, 9, 8, 0, 4, 0, 9, 8, 3, 5, 0, 7, 8, 4, 1,\n",
       "        6, 8, 6, 1, 7, 1, 3, 7, 3, 4, 2, 8, 4, 2, 3, 2, 7, 9, 1, 3, 4, 8,\n",
       "        9, 7, 6, 9, 8, 0, 7, 0, 4, 9, 7, 3, 6, 1, 3, 9, 0, 7, 9, 1, 2, 7,\n",
       "        0, 6, 1, 6, 7, 3, 6, 5, 2, 9, 6, 4, 0, 9, 6, 5, 7, 3, 4, 7, 0, 8,\n",
       "        6, 8, 7, 8, 3, 8, 9, 6, 3, 9, 1, 6, 0, 6, 2, 1, 5, 6, 0, 9, 0, 5,\n",
       "        7, 0, 9, 3, 4, 2, 5, 3, 0, 1, 6, 5, 8, 9, 1, 8, 4, 7, 4, 2, 1, 0,\n",
       "        7, 1, 3, 7, 0, 2, 8, 1, 0, 9, 6, 8, 6, 3, 7, 3, 1, 4, 3, 0, 6, 9,\n",
       "        2, 8, 1, 8, 7, 0, 4, 9, 5, 6, 5, 6, 8, 0, 2, 4, 7, 5, 4, 6, 0, 4,\n",
       "        1, 8, 0, 4, 8, 6, 2, 4, 7, 3, 5, 9, 1, 0, 3, 9, 5, 4, 1, 8, 4, 6,\n",
       "        1, 7, 9, 6, 8, 6, 8, 5, 9, 4, 1, 6, 8, 9, 3, 7, 0, 9, 6, 8, 6, 9,\n",
       "        5, 1, 6, 0, 5, 0, 4, 2, 1, 5, 6, 5, 9, 4, 0, 6, 7, 5, 6, 3, 2, 3,\n",
       "        0, 2, 1, 0, 7, 5, 6, 7, 0, 7, 2, 9, 4, 3, 6, 7, 0, 9, 2, 8, 5, 9,\n",
       "        3, 4, 6, 0, 5, 2, 7, 6, 9, 8, 5, 7, 8, 2, 4, 5, 8, 7, 2, 1, 7, 4,\n",
       "        2, 0, 8, 5, 7, 6, 8, 3, 6, 2, 8, 5, 0, 9, 1, 8, 6, 9, 4, 5, 9, 0,\n",
       "        2, 4, 7, 9, 1, 0, 4, 2, 6, 9, 7, 9, 2, 3, 8, 6, 8, 7, 5, 8, 0, 6,\n",
       "        5, 1, 9, 3, 2, 6, 2, 3, 2, 9, 6, 5, 6, 8, 5, 1, 3, 2, 4, 2, 4, 5,\n",
       "        0, 9, 4, 1, 7, 8, 2, 0, 5, 4, 9, 7, 3, 2, 9, 6, 7, 8, 7, 5, 3, 5,\n",
       "        0, 3, 0, 7, 9, 3, 5, 2, 5, 3, 6, 3, 5, 4, 2, 3, 6, 5, 4, 7, 2, 4,\n",
       "        3, 0, 2, 3, 7, 3, 4, 3, 0, 4, 9, 6, 9, 8, 3, 0, 9, 6, 5, 1, 2, 5,\n",
       "        4, 0, 9, 2, 3, 9, 0, 5, 7, 8, 4, 7, 0, 5, 4, 0, 5, 2, 7, 8, 9, 2,\n",
       "        5, 0, 3, 5, 1, 2, 1, 6, 2, 8, 5, 8, 0, 9, 1, 0, 3, 1, 6, 9, 2, 0,\n",
       "        2, 0, 9, 5, 9, 3, 1, 7, 9, 6, 7, 8, 4, 6, 1, 3, 4, 9, 1, 7, 0, 8,\n",
       "        2, 0, 2, 7, 3, 8, 6, 7, 3, 1, 0, 6, 5, 9, 1, 4, 0, 7, 5, 2, 6, 0,\n",
       "        7, 8, 4, 3, 0, 1, 8, 2, 8, 3, 0, 9, 5, 6, 4, 1, 4, 7, 3, 7, 6, 0,\n",
       "        3, 1, 2, 5, 6, 5, 7, 5, 7, 3, 0, 6, 2, 1, 5, 8, 7, 4, 2, 0, 9, 2,\n",
       "        1, 3, 9, 7, 5, 8, 2, 5, 0, 4, 8, 2, 1, 7, 6, 7, 6, 9, 3, 2, 9, 0,\n",
       "        9, 1, 6, 7, 5, 8, 1, 5, 3, 0, 8, 0, 2, 0, 9, 6, 4, 0, 5, 6, 9, 7,\n",
       "        2, 9, 2, 4, 1, 7, 8, 6, 9, 8, 5, 9, 4, 3, 5, 7, 6, 2, 8, 1, 6, 4,\n",
       "        3, 4, 6, 9, 2, 3, 7, 9, 3, 4, 8, 4, 7, 3, 9, 7, 6, 0, 1, 3, 5, 7,\n",
       "        5, 9, 8, 5, 0, 2, 1, 6, 0, 2, 5, 7, 8, 6, 8, 9, 2, 1, 7, 2, 4, 9,\n",
       "        7, 5, 1, 3, 6, 8, 5, 4, 1, 6, 5, 4, 9, 3, 9, 5, 4, 3, 5, 8, 2, 6,\n",
       "        2, 7, 0, 9, 0, 7, 8, 6, 7, 9, 0, 5, 7, 0, 2, 6, 3, 6, 9, 3, 8, 6,\n",
       "        4, 9, 3, 2, 8, 4, 6, 4, 9, 3, 2, 5, 4, 7, 3, 0, 6, 3, 1, 3, 2, 8,\n",
       "        6, 5, 7, 4, 7, 0, 6, 5, 6, 5, 7, 2, 7, 5, 0, 7, 6, 4, 2, 7, 0, 2,\n",
       "        4, 7, 4, 1, 4, 7, 1, 4, 5, 2, 3, 5, 9, 8, 5, 9, 7, 8, 9, 7, 2, 8,\n",
       "        1, 9, 1, 9, 5, 1, 3, 0, 7, 4, 6, 9, 5, 7, 6, 5]),\n",
       " array([1, 1, 1, 1, 1, 1, 1, 1, 1, 1, 1, 1, 1, 2, 1, 2, 1, 1, 1, 1, 1, 1,\n",
       "        1, 1, 1, 2, 1, 1, 1, 1, 1, 1, 1, 2, 1, 1, 1, 1, 1, 1, 1, 2, 1, 2,\n",
       "        1, 1, 1, 1, 1, 1, 1, 1, 1, 1, 1, 1, 1, 1, 1, 1, 2, 1, 2, 1, 1, 1,\n",
       "        1, 1, 1, 1, 1, 1, 1, 1, 1, 1, 1, 1, 1, 1, 1, 2, 1, 1, 1, 2, 1, 1,\n",
       "        1, 1, 1, 1, 1, 1, 1, 1, 1, 1, 1, 1, 1, 1, 1, 2, 1, 1, 1, 1, 1, 1,\n",
       "        1, 1, 1, 1, 1, 1, 1, 1, 1, 1, 1, 1, 1, 2, 1, 1, 1, 1, 2, 1, 1, 1,\n",
       "        1, 2, 1, 1, 3, 1, 2, 1, 1, 1, 1, 1, 1, 1, 1, 2, 1, 1, 1, 1, 1, 1,\n",
       "        2, 1, 1, 2, 1, 1, 1, 1, 1, 1, 1, 1, 1, 1, 1, 1, 1, 1, 1, 1, 1, 1,\n",
       "        1, 1, 1, 1, 1, 1, 1, 1, 1, 1, 1, 1, 1, 1, 1, 1, 1, 1, 1, 1, 1, 2,\n",
       "        1, 1, 1, 1, 1, 1, 1, 1, 1, 1, 1, 1, 1, 1, 1, 1, 1, 1, 3, 1, 2, 1,\n",
       "        1, 2, 1, 1, 1, 1, 1, 1, 1, 1, 1, 1, 1, 2, 1, 1, 1, 1, 1, 1, 1, 1,\n",
       "        1, 1, 1, 1, 1, 1, 1, 1, 1, 1, 1, 1, 1, 1, 1, 1, 1, 1, 1, 1, 1, 1,\n",
       "        1, 1, 1, 1, 2, 1, 1, 1, 1, 1, 1, 1, 1, 1, 1, 2, 1, 1, 1, 1, 1, 1,\n",
       "        2, 1, 1, 2, 1, 1, 1, 1, 1, 1, 1, 1, 1, 1, 1, 1, 2, 1, 1, 1, 1, 1,\n",
       "        1, 1, 1, 1, 1, 1, 1, 1, 1, 3, 1, 1, 1, 1, 1, 1, 1, 1, 1, 1, 1, 1,\n",
       "        1, 1, 1, 1, 1, 2, 1, 1, 1, 1, 1, 1, 2, 1, 1, 1, 1, 1, 1, 1, 1, 1,\n",
       "        1, 1, 1, 1, 1, 1, 1, 2, 1, 1, 1, 1, 1, 1, 1, 1, 1, 1, 1, 1, 1, 1,\n",
       "        1, 2, 1, 2, 1, 1, 2, 1, 1, 1, 1, 1, 1, 1, 1, 1, 1, 1, 1, 1, 1, 1,\n",
       "        1, 1, 1, 1, 1, 1, 1, 1, 1, 1, 2, 1, 2, 1, 1, 2, 2, 1, 1, 1, 1, 1,\n",
       "        2, 1, 1, 1, 1, 1, 1, 1, 1, 1, 1, 1, 1, 1, 1, 1, 1, 1, 1, 1, 1, 1,\n",
       "        1, 1, 1, 1, 1, 2, 1, 1, 1, 1, 1, 1, 1, 1, 1, 1, 1, 1, 1, 1, 1, 1,\n",
       "        1, 1, 1, 1, 2, 1, 1, 1, 1, 1, 1, 1, 1, 2, 1, 1, 1, 1, 1, 1, 2, 1,\n",
       "        1, 2, 1, 1, 1, 1, 1, 1, 1, 1, 1, 2, 1, 1, 1, 1, 1, 1, 1, 1, 1, 1,\n",
       "        2, 1, 1, 1, 1, 1, 1, 1, 1, 1, 1, 1, 1, 1, 1, 1, 1, 2, 1, 1, 1, 1,\n",
       "        1, 2, 1, 1, 1, 1, 1, 1, 2, 1, 1, 2, 1, 1, 1, 1, 1, 1, 1, 1, 1, 1,\n",
       "        1, 1, 1, 1, 1, 1, 1, 1, 1, 1, 1, 1, 1, 1, 1, 1, 1, 1, 1, 1, 1, 1,\n",
       "        2, 1, 1, 2, 1, 1, 1, 1, 1, 1, 1, 1, 1, 1, 1, 1, 1, 2, 1, 1, 1, 2,\n",
       "        3, 1, 1, 2, 1, 1, 1, 1, 1, 1, 1, 1, 1, 1, 1, 1, 1, 1, 1, 1, 1, 1,\n",
       "        1, 3, 1, 1, 1, 1, 1, 1, 2, 1, 1, 1, 1, 1, 1, 1, 1, 1, 1, 1, 1, 1,\n",
       "        1, 1, 1, 1, 1, 1, 1, 1, 1, 1, 1, 1, 1, 1, 1, 1, 1, 1, 1, 1, 1, 1,\n",
       "        1, 1, 1, 1, 1, 1, 1, 3, 1, 1, 1, 1, 1, 1, 1, 1, 2, 1, 1, 1, 2, 1,\n",
       "        1, 1, 1, 1, 1, 1, 1, 1, 1, 1, 1, 2, 1, 1, 1, 1, 1, 1, 1, 2, 2, 2,\n",
       "        1, 2, 1, 1, 1, 1, 1, 1, 2, 1, 1, 1, 1, 1, 1, 1, 1, 1, 2, 1, 1, 1,\n",
       "        1, 1, 1, 1, 2, 1, 1, 1, 1, 1, 1, 1, 1, 1, 1, 1, 1, 1, 1, 1, 1, 1,\n",
       "        1, 1, 2, 2, 1, 1, 1, 1, 1, 1, 1, 1, 1, 1, 1, 1, 1, 2, 1, 2, 1, 1,\n",
       "        1, 1, 1, 1, 2, 1, 1, 2, 1, 1, 2, 1, 1, 2, 1, 1, 1, 1, 1, 1, 1, 1,\n",
       "        1, 2, 2, 1, 1, 1, 1, 1, 1, 2, 1, 1, 1, 1, 1, 1, 1, 1, 1, 1, 1, 1,\n",
       "        1, 1, 1, 1, 1, 1, 1, 1, 1, 1, 1, 1, 1, 1, 2, 1, 1, 1, 3, 1, 1, 1,\n",
       "        1, 2, 1, 2, 1, 1, 1, 1, 1, 1, 1, 2, 1, 2, 1, 1, 1, 1, 1, 2, 2, 1,\n",
       "        1, 1, 1, 1, 2, 1, 2, 1, 1, 1, 1, 1, 1, 2, 1, 2, 1, 1, 1, 2, 1, 1,\n",
       "        1, 1, 1, 1, 1, 2, 1, 1, 1, 2, 1, 1, 1, 1, 1, 1]))"
      ]
     },
     "execution_count": 194,
     "metadata": {},
     "output_type": "execute_result"
    }
   ],
   "source": [
    "time_6 = %timeit -o func_6(x)\n",
    "func_6(x)"
   ]
  },
  {
   "cell_type": "code",
   "execution_count": 195,
   "metadata": {},
   "outputs": [
    {
     "name": "stdout",
     "output_type": "stream",
     "text": [
      "55.1 µs ± 1.97 µs per loop (mean ± std. dev. of 7 runs, 10,000 loops each)\n"
     ]
    },
    {
     "data": {
      "text/plain": [
       "(array([9, 3, 7, 2, 6, 5, 4, 7, 4, 1, 5, 1, 3, 7, 3, 2, 8, 1, 5, 7, 5, 1,\n",
       "        4, 3, 6, 2, 8, 9, 5, 8, 6, 1, 4, 1, 4, 7, 2, 7, 0, 3, 4, 6, 2, 6,\n",
       "        2, 6, 3, 6, 1, 0, 1, 8, 7, 2, 1, 9, 1, 9, 0, 9, 2, 0, 9, 3, 1, 2,\n",
       "        8, 7, 2, 4, 6, 7, 2, 8, 1, 2, 1, 2, 4, 6, 5, 2, 7, 0, 8, 2, 0, 6,\n",
       "        8, 2, 1, 9, 7, 3, 5, 8, 7, 1, 7, 6, 4, 8, 5, 2, 3, 8, 2, 5, 6, 7,\n",
       "        8, 7, 0, 4, 8, 3, 9, 1, 9, 8, 0, 4, 0, 9, 8, 3, 5, 0, 7, 8, 4, 1,\n",
       "        6, 8, 6, 1, 7, 1, 3, 7, 3, 4, 2, 8, 4, 2, 3, 2, 7, 9, 1, 3, 4, 8,\n",
       "        9, 7, 6, 9, 8, 0, 7, 0, 4, 9, 7, 3, 6, 1, 3, 9, 0, 7, 9, 1, 2, 7,\n",
       "        0, 6, 1, 6, 7, 3, 6, 5, 2, 9, 6, 4, 0, 9, 6, 5, 7, 3, 4, 7, 0, 8,\n",
       "        6, 8, 7, 8, 3, 8, 9, 6, 3, 9, 1, 6, 0, 6, 2, 1, 5, 6, 0, 9, 0, 5,\n",
       "        7, 0, 9, 3, 4, 2, 5, 3, 0, 1, 6, 5, 8, 9, 1, 8, 4, 7, 4, 2, 1, 0,\n",
       "        7, 1, 3, 7, 0, 2, 8, 1, 0, 9, 6, 8, 6, 3, 7, 3, 1, 4, 3, 0, 6, 9,\n",
       "        2, 8, 1, 8, 7, 0, 4, 9, 5, 6, 5, 6, 8, 0, 2, 4, 7, 5, 4, 6, 0, 4,\n",
       "        1, 8, 0, 4, 8, 6, 2, 4, 7, 3, 5, 9, 1, 0, 3, 9, 5, 4, 1, 8, 4, 6,\n",
       "        1, 7, 9, 6, 8, 6, 8, 5, 9, 4, 1, 6, 8, 9, 3, 7, 0, 9, 6, 8, 6, 9,\n",
       "        5, 1, 6, 0, 5, 0, 4, 2, 1, 5, 6, 5, 9, 4, 0, 6, 7, 5, 6, 3, 2, 3,\n",
       "        0, 2, 1, 0, 7, 5, 6, 7, 0, 7, 2, 9, 4, 3, 6, 7, 0, 9, 2, 8, 5, 9,\n",
       "        3, 4, 6, 0, 5, 2, 7, 6, 9, 8, 5, 7, 8, 2, 4, 5, 8, 7, 2, 1, 7, 4,\n",
       "        2, 0, 8, 5, 7, 6, 8, 3, 6, 2, 8, 5, 0, 9, 1, 8, 6, 9, 4, 5, 9, 0,\n",
       "        2, 4, 7, 9, 1, 0, 4, 2, 6, 9, 7, 9, 2, 3, 8, 6, 8, 7, 5, 8, 0, 6,\n",
       "        5, 1, 9, 3, 2, 6, 2, 3, 2, 9, 6, 5, 6, 8, 5, 1, 3, 2, 4, 2, 4, 5,\n",
       "        0, 9, 4, 1, 7, 8, 2, 0, 5, 4, 9, 7, 3, 2, 9, 6, 7, 8, 7, 5, 3, 5,\n",
       "        0, 3, 0, 7, 9, 3, 5, 2, 5, 3, 6, 3, 5, 4, 2, 3, 6, 5, 4, 7, 2, 4,\n",
       "        3, 0, 2, 3, 7, 3, 4, 3, 0, 4, 9, 6, 9, 8, 3, 0, 9, 6, 5, 1, 2, 5,\n",
       "        4, 0, 9, 2, 3, 9, 0, 5, 7, 8, 4, 7, 0, 5, 4, 0, 5, 2, 7, 8, 9, 2,\n",
       "        5, 0, 3, 5, 1, 2, 1, 6, 2, 8, 5, 8, 0, 9, 1, 0, 3, 1, 6, 9, 2, 0,\n",
       "        2, 0, 9, 5, 9, 3, 1, 7, 9, 6, 7, 8, 4, 6, 1, 3, 4, 9, 1, 7, 0, 8,\n",
       "        2, 0, 2, 7, 3, 8, 6, 7, 3, 1, 0, 6, 5, 9, 1, 4, 0, 7, 5, 2, 6, 0,\n",
       "        7, 8, 4, 3, 0, 1, 8, 2, 8, 3, 0, 9, 5, 6, 4, 1, 4, 7, 3, 7, 6, 0,\n",
       "        3, 1, 2, 5, 6, 5, 7, 5, 7, 3, 0, 6, 2, 1, 5, 8, 7, 4, 2, 0, 9, 2,\n",
       "        1, 3, 9, 7, 5, 8, 2, 5, 0, 4, 8, 2, 1, 7, 6, 7, 6, 9, 3, 2, 9, 0,\n",
       "        9, 1, 6, 7, 5, 8, 1, 5, 3, 0, 8, 0, 2, 0, 9, 6, 4, 0, 5, 6, 9, 7,\n",
       "        2, 9, 2, 4, 1, 7, 8, 6, 9, 8, 5, 9, 4, 3, 5, 7, 6, 2, 8, 1, 6, 4,\n",
       "        3, 4, 6, 9, 2, 3, 7, 9, 3, 4, 8, 4, 7, 3, 9, 7, 6, 0, 1, 3, 5, 7,\n",
       "        5, 9, 8, 5, 0, 2, 1, 6, 0, 2, 5, 7, 8, 6, 8, 9, 2, 1, 7, 2, 4, 9,\n",
       "        7, 5, 1, 3, 6, 8, 5, 4, 1, 6, 5, 4, 9, 3, 9, 5, 4, 3, 5, 8, 2, 6,\n",
       "        2, 7, 0, 9, 0, 7, 8, 6, 7, 9, 0, 5, 7, 0, 2, 6, 3, 6, 9, 3, 8, 6,\n",
       "        4, 9, 3, 2, 8, 4, 6, 4, 9, 3, 2, 5, 4, 7, 3, 0, 6, 3, 1, 3, 2, 8,\n",
       "        6, 5, 7, 4, 7, 0, 6, 5, 6, 5, 7, 2, 7, 5, 0, 7, 6, 4, 2, 7, 0, 2,\n",
       "        4, 7, 4, 1, 4, 7, 1, 4, 5, 2, 3, 5, 9, 8, 5, 9, 7, 8, 9, 7, 2, 8,\n",
       "        1, 9, 1, 9, 5, 1, 3, 0, 7, 4, 6, 9, 5, 7, 6, 5]),\n",
       " array([1, 1, 1, 1, 1, 1, 1, 1, 1, 1, 1, 1, 1, 2, 1, 2, 1, 1, 1, 1, 1, 1,\n",
       "        1, 1, 1, 2, 1, 1, 1, 1, 1, 1, 1, 2, 1, 1, 1, 1, 1, 1, 1, 2, 1, 2,\n",
       "        1, 1, 1, 1, 1, 1, 1, 1, 1, 1, 1, 1, 1, 1, 1, 1, 2, 1, 2, 1, 1, 1,\n",
       "        1, 1, 1, 1, 1, 1, 1, 1, 1, 1, 1, 1, 1, 1, 1, 2, 1, 1, 1, 2, 1, 1,\n",
       "        1, 1, 1, 1, 1, 1, 1, 1, 1, 1, 1, 1, 1, 1, 1, 2, 1, 1, 1, 1, 1, 1,\n",
       "        1, 1, 1, 1, 1, 1, 1, 1, 1, 1, 1, 1, 1, 2, 1, 1, 1, 1, 2, 1, 1, 1,\n",
       "        1, 2, 1, 1, 3, 1, 2, 1, 1, 1, 1, 1, 1, 1, 1, 2, 1, 1, 1, 1, 1, 1,\n",
       "        2, 1, 1, 2, 1, 1, 1, 1, 1, 1, 1, 1, 1, 1, 1, 1, 1, 1, 1, 1, 1, 1,\n",
       "        1, 1, 1, 1, 1, 1, 1, 1, 1, 1, 1, 1, 1, 1, 1, 1, 1, 1, 1, 1, 1, 2,\n",
       "        1, 1, 1, 1, 1, 1, 1, 1, 1, 1, 1, 1, 1, 1, 1, 1, 1, 1, 3, 1, 2, 1,\n",
       "        1, 2, 1, 1, 1, 1, 1, 1, 1, 1, 1, 1, 1, 2, 1, 1, 1, 1, 1, 1, 1, 1,\n",
       "        1, 1, 1, 1, 1, 1, 1, 1, 1, 1, 1, 1, 1, 1, 1, 1, 1, 1, 1, 1, 1, 1,\n",
       "        1, 1, 1, 1, 2, 1, 1, 1, 1, 1, 1, 1, 1, 1, 1, 2, 1, 1, 1, 1, 1, 1,\n",
       "        2, 1, 1, 2, 1, 1, 1, 1, 1, 1, 1, 1, 1, 1, 1, 1, 2, 1, 1, 1, 1, 1,\n",
       "        1, 1, 1, 1, 1, 1, 1, 1, 1, 3, 1, 1, 1, 1, 1, 1, 1, 1, 1, 1, 1, 1,\n",
       "        1, 1, 1, 1, 1, 2, 1, 1, 1, 1, 1, 1, 2, 1, 1, 1, 1, 1, 1, 1, 1, 1,\n",
       "        1, 1, 1, 1, 1, 1, 1, 2, 1, 1, 1, 1, 1, 1, 1, 1, 1, 1, 1, 1, 1, 1,\n",
       "        1, 2, 1, 2, 1, 1, 2, 1, 1, 1, 1, 1, 1, 1, 1, 1, 1, 1, 1, 1, 1, 1,\n",
       "        1, 1, 1, 1, 1, 1, 1, 1, 1, 1, 2, 1, 2, 1, 1, 2, 2, 1, 1, 1, 1, 1,\n",
       "        2, 1, 1, 1, 1, 1, 1, 1, 1, 1, 1, 1, 1, 1, 1, 1, 1, 1, 1, 1, 1, 1,\n",
       "        1, 1, 1, 1, 1, 2, 1, 1, 1, 1, 1, 1, 1, 1, 1, 1, 1, 1, 1, 1, 1, 1,\n",
       "        1, 1, 1, 1, 2, 1, 1, 1, 1, 1, 1, 1, 1, 2, 1, 1, 1, 1, 1, 1, 2, 1,\n",
       "        1, 2, 1, 1, 1, 1, 1, 1, 1, 1, 1, 2, 1, 1, 1, 1, 1, 1, 1, 1, 1, 1,\n",
       "        2, 1, 1, 1, 1, 1, 1, 1, 1, 1, 1, 1, 1, 1, 1, 1, 1, 2, 1, 1, 1, 1,\n",
       "        1, 2, 1, 1, 1, 1, 1, 1, 2, 1, 1, 2, 1, 1, 1, 1, 1, 1, 1, 1, 1, 1,\n",
       "        1, 1, 1, 1, 1, 1, 1, 1, 1, 1, 1, 1, 1, 1, 1, 1, 1, 1, 1, 1, 1, 1,\n",
       "        2, 1, 1, 2, 1, 1, 1, 1, 1, 1, 1, 1, 1, 1, 1, 1, 1, 2, 1, 1, 1, 2,\n",
       "        3, 1, 1, 2, 1, 1, 1, 1, 1, 1, 1, 1, 1, 1, 1, 1, 1, 1, 1, 1, 1, 1,\n",
       "        1, 3, 1, 1, 1, 1, 1, 1, 2, 1, 1, 1, 1, 1, 1, 1, 1, 1, 1, 1, 1, 1,\n",
       "        1, 1, 1, 1, 1, 1, 1, 1, 1, 1, 1, 1, 1, 1, 1, 1, 1, 1, 1, 1, 1, 1,\n",
       "        1, 1, 1, 1, 1, 1, 1, 3, 1, 1, 1, 1, 1, 1, 1, 1, 2, 1, 1, 1, 2, 1,\n",
       "        1, 1, 1, 1, 1, 1, 1, 1, 1, 1, 1, 2, 1, 1, 1, 1, 1, 1, 1, 2, 2, 2,\n",
       "        1, 2, 1, 1, 1, 1, 1, 1, 2, 1, 1, 1, 1, 1, 1, 1, 1, 1, 2, 1, 1, 1,\n",
       "        1, 1, 1, 1, 2, 1, 1, 1, 1, 1, 1, 1, 1, 1, 1, 1, 1, 1, 1, 1, 1, 1,\n",
       "        1, 1, 2, 2, 1, 1, 1, 1, 1, 1, 1, 1, 1, 1, 1, 1, 1, 2, 1, 2, 1, 1,\n",
       "        1, 1, 1, 1, 2, 1, 1, 2, 1, 1, 2, 1, 1, 2, 1, 1, 1, 1, 1, 1, 1, 1,\n",
       "        1, 2, 2, 1, 1, 1, 1, 1, 1, 2, 1, 1, 1, 1, 1, 1, 1, 1, 1, 1, 1, 1,\n",
       "        1, 1, 1, 1, 1, 1, 1, 1, 1, 1, 1, 1, 1, 1, 2, 1, 1, 1, 3, 1, 1, 1,\n",
       "        1, 2, 1, 2, 1, 1, 1, 1, 1, 1, 1, 2, 1, 2, 1, 1, 1, 1, 1, 2, 2, 1,\n",
       "        1, 1, 1, 1, 2, 1, 2, 1, 1, 1, 1, 1, 1, 2, 1, 2, 1, 1, 1, 2, 1, 1,\n",
       "        1, 1, 1, 1, 1, 2, 1, 1, 1, 2, 1, 1, 1, 1, 1, 1], dtype=int64))"
      ]
     },
     "execution_count": 195,
     "metadata": {},
     "output_type": "execute_result"
    }
   ],
   "source": [
    "best_time_6 = %timeit -o best_func_6(x)\n",
    "best_func_6(x)"
   ]
  },
  {
   "cell_type": "code",
   "execution_count": 196,
   "metadata": {},
   "outputs": [
    {
     "name": "stdout",
     "output_type": "stream",
     "text": [
      "1.5 ms ± 38.9 µs per loop (mean ± std. dev. of 7 runs, 1,000 loops each)\n"
     ]
    },
    {
     "data": {
      "text/plain": [
       "(array([9, 3, 7, 2, 6, 5, 4, 7, 4, 1, 5, 1, 3, 7, 3, 2, 8, 1, 5, 7, 5, 1,\n",
       "        4, 3, 6, 2, 8, 9, 5, 8, 6, 1, 4, 1, 4, 7, 2, 7, 0, 3, 4, 6, 2, 6,\n",
       "        2, 6, 3, 6, 1, 0, 1, 8, 7, 2, 1, 9, 1, 9, 0, 9, 2, 0, 9, 3, 1, 2,\n",
       "        8, 7, 2, 4, 6, 7, 2, 8, 1, 2, 1, 2, 4, 6, 5, 2, 7, 0, 8, 2, 0, 6,\n",
       "        8, 2, 1, 9, 7, 3, 5, 8, 7, 1, 7, 6, 4, 8, 5, 2, 3, 8, 2, 5, 6, 7,\n",
       "        8, 7, 0, 4, 8, 3, 9, 1, 9, 8, 0, 4, 0, 9, 8, 3, 5, 0, 7, 8, 4, 1,\n",
       "        6, 8, 6, 1, 7, 1, 3, 7, 3, 4, 2, 8, 4, 2, 3, 2, 7, 9, 1, 3, 4, 8,\n",
       "        9, 7, 6, 9, 8, 0, 7, 0, 4, 9, 7, 3, 6, 1, 3, 9, 0, 7, 9, 1, 2, 7,\n",
       "        0, 6, 1, 6, 7, 3, 6, 5, 2, 9, 6, 4, 0, 9, 6, 5, 7, 3, 4, 7, 0, 8,\n",
       "        6, 8, 7, 8, 3, 8, 9, 6, 3, 9, 1, 6, 0, 6, 2, 1, 5, 6, 0, 9, 0, 5,\n",
       "        7, 0, 9, 3, 4, 2, 5, 3, 0, 1, 6, 5, 8, 9, 1, 8, 4, 7, 4, 2, 1, 0,\n",
       "        7, 1, 3, 7, 0, 2, 8, 1, 0, 9, 6, 8, 6, 3, 7, 3, 1, 4, 3, 0, 6, 9,\n",
       "        2, 8, 1, 8, 7, 0, 4, 9, 5, 6, 5, 6, 8, 0, 2, 4, 7, 5, 4, 6, 0, 4,\n",
       "        1, 8, 0, 4, 8, 6, 2, 4, 7, 3, 5, 9, 1, 0, 3, 9, 5, 4, 1, 8, 4, 6,\n",
       "        1, 7, 9, 6, 8, 6, 8, 5, 9, 4, 1, 6, 8, 9, 3, 7, 0, 9, 6, 8, 6, 9,\n",
       "        5, 1, 6, 0, 5, 0, 4, 2, 1, 5, 6, 5, 9, 4, 0, 6, 7, 5, 6, 3, 2, 3,\n",
       "        0, 2, 1, 0, 7, 5, 6, 7, 0, 7, 2, 9, 4, 3, 6, 7, 0, 9, 2, 8, 5, 9,\n",
       "        3, 4, 6, 0, 5, 2, 7, 6, 9, 8, 5, 7, 8, 2, 4, 5, 8, 7, 2, 1, 7, 4,\n",
       "        2, 0, 8, 5, 7, 6, 8, 3, 6, 2, 8, 5, 0, 9, 1, 8, 6, 9, 4, 5, 9, 0,\n",
       "        2, 4, 7, 9, 1, 0, 4, 2, 6, 9, 7, 9, 2, 3, 8, 6, 8, 7, 5, 8, 0, 6,\n",
       "        5, 1, 9, 3, 2, 6, 2, 3, 2, 9, 6, 5, 6, 8, 5, 1, 3, 2, 4, 2, 4, 5,\n",
       "        0, 9, 4, 1, 7, 8, 2, 0, 5, 4, 9, 7, 3, 2, 9, 6, 7, 8, 7, 5, 3, 5,\n",
       "        0, 3, 0, 7, 9, 3, 5, 2, 5, 3, 6, 3, 5, 4, 2, 3, 6, 5, 4, 7, 2, 4,\n",
       "        3, 0, 2, 3, 7, 3, 4, 3, 0, 4, 9, 6, 9, 8, 3, 0, 9, 6, 5, 1, 2, 5,\n",
       "        4, 0, 9, 2, 3, 9, 0, 5, 7, 8, 4, 7, 0, 5, 4, 0, 5, 2, 7, 8, 9, 2,\n",
       "        5, 0, 3, 5, 1, 2, 1, 6, 2, 8, 5, 8, 0, 9, 1, 0, 3, 1, 6, 9, 2, 0,\n",
       "        2, 0, 9, 5, 9, 3, 1, 7, 9, 6, 7, 8, 4, 6, 1, 3, 4, 9, 1, 7, 0, 8,\n",
       "        2, 0, 2, 7, 3, 8, 6, 7, 3, 1, 0, 6, 5, 9, 1, 4, 0, 7, 5, 2, 6, 0,\n",
       "        7, 8, 4, 3, 0, 1, 8, 2, 8, 3, 0, 9, 5, 6, 4, 1, 4, 7, 3, 7, 6, 0,\n",
       "        3, 1, 2, 5, 6, 5, 7, 5, 7, 3, 0, 6, 2, 1, 5, 8, 7, 4, 2, 0, 9, 2,\n",
       "        1, 3, 9, 7, 5, 8, 2, 5, 0, 4, 8, 2, 1, 7, 6, 7, 6, 9, 3, 2, 9, 0,\n",
       "        9, 1, 6, 7, 5, 8, 1, 5, 3, 0, 8, 0, 2, 0, 9, 6, 4, 0, 5, 6, 9, 7,\n",
       "        2, 9, 2, 4, 1, 7, 8, 6, 9, 8, 5, 9, 4, 3, 5, 7, 6, 2, 8, 1, 6, 4,\n",
       "        3, 4, 6, 9, 2, 3, 7, 9, 3, 4, 8, 4, 7, 3, 9, 7, 6, 0, 1, 3, 5, 7,\n",
       "        5, 9, 8, 5, 0, 2, 1, 6, 0, 2, 5, 7, 8, 6, 8, 9, 2, 1, 7, 2, 4, 9,\n",
       "        7, 5, 1, 3, 6, 8, 5, 4, 1, 6, 5, 4, 9, 3, 9, 5, 4, 3, 5, 8, 2, 6,\n",
       "        2, 7, 0, 9, 0, 7, 8, 6, 7, 9, 0, 5, 7, 0, 2, 6, 3, 6, 9, 3, 8, 6,\n",
       "        4, 9, 3, 2, 8, 4, 6, 4, 9, 3, 2, 5, 4, 7, 3, 0, 6, 3, 1, 3, 2, 8,\n",
       "        6, 5, 7, 4, 7, 0, 6, 5, 6, 5, 7, 2, 7, 5, 0, 7, 6, 4, 2, 7, 0, 2,\n",
       "        4, 7, 4, 1, 4, 7, 1, 4, 5, 2, 3, 5, 9, 8, 5, 9, 7, 8, 9, 7, 2, 8,\n",
       "        1, 9, 1, 9, 5, 1, 3, 0, 7, 4, 6, 9, 5, 7, 6, 5]),\n",
       " array([1, 1, 1, 1, 1, 1, 1, 1, 1, 1, 1, 1, 1, 2, 1, 2, 1, 1, 1, 1, 1, 1,\n",
       "        1, 1, 1, 2, 1, 1, 1, 1, 1, 1, 1, 2, 1, 1, 1, 1, 1, 1, 1, 2, 1, 2,\n",
       "        1, 1, 1, 1, 1, 1, 1, 1, 1, 1, 1, 1, 1, 1, 1, 1, 2, 1, 2, 1, 1, 1,\n",
       "        1, 1, 1, 1, 1, 1, 1, 1, 1, 1, 1, 1, 1, 1, 1, 2, 1, 1, 1, 2, 1, 1,\n",
       "        1, 1, 1, 1, 1, 1, 1, 1, 1, 1, 1, 1, 1, 1, 1, 2, 1, 1, 1, 1, 1, 1,\n",
       "        1, 1, 1, 1, 1, 1, 1, 1, 1, 1, 1, 1, 1, 2, 1, 1, 1, 1, 2, 1, 1, 1,\n",
       "        1, 2, 1, 1, 3, 1, 2, 1, 1, 1, 1, 1, 1, 1, 1, 2, 1, 1, 1, 1, 1, 1,\n",
       "        2, 1, 1, 2, 1, 1, 1, 1, 1, 1, 1, 1, 1, 1, 1, 1, 1, 1, 1, 1, 1, 1,\n",
       "        1, 1, 1, 1, 1, 1, 1, 1, 1, 1, 1, 1, 1, 1, 1, 1, 1, 1, 1, 1, 1, 2,\n",
       "        1, 1, 1, 1, 1, 1, 1, 1, 1, 1, 1, 1, 1, 1, 1, 1, 1, 1, 3, 1, 2, 1,\n",
       "        1, 2, 1, 1, 1, 1, 1, 1, 1, 1, 1, 1, 1, 2, 1, 1, 1, 1, 1, 1, 1, 1,\n",
       "        1, 1, 1, 1, 1, 1, 1, 1, 1, 1, 1, 1, 1, 1, 1, 1, 1, 1, 1, 1, 1, 1,\n",
       "        1, 1, 1, 1, 2, 1, 1, 1, 1, 1, 1, 1, 1, 1, 1, 2, 1, 1, 1, 1, 1, 1,\n",
       "        2, 1, 1, 2, 1, 1, 1, 1, 1, 1, 1, 1, 1, 1, 1, 1, 2, 1, 1, 1, 1, 1,\n",
       "        1, 1, 1, 1, 1, 1, 1, 1, 1, 3, 1, 1, 1, 1, 1, 1, 1, 1, 1, 1, 1, 1,\n",
       "        1, 1, 1, 1, 1, 2, 1, 1, 1, 1, 1, 1, 2, 1, 1, 1, 1, 1, 1, 1, 1, 1,\n",
       "        1, 1, 1, 1, 1, 1, 1, 2, 1, 1, 1, 1, 1, 1, 1, 1, 1, 1, 1, 1, 1, 1,\n",
       "        1, 2, 1, 2, 1, 1, 2, 1, 1, 1, 1, 1, 1, 1, 1, 1, 1, 1, 1, 1, 1, 1,\n",
       "        1, 1, 1, 1, 1, 1, 1, 1, 1, 1, 2, 1, 2, 1, 1, 2, 2, 1, 1, 1, 1, 1,\n",
       "        2, 1, 1, 1, 1, 1, 1, 1, 1, 1, 1, 1, 1, 1, 1, 1, 1, 1, 1, 1, 1, 1,\n",
       "        1, 1, 1, 1, 1, 2, 1, 1, 1, 1, 1, 1, 1, 1, 1, 1, 1, 1, 1, 1, 1, 1,\n",
       "        1, 1, 1, 1, 2, 1, 1, 1, 1, 1, 1, 1, 1, 2, 1, 1, 1, 1, 1, 1, 2, 1,\n",
       "        1, 2, 1, 1, 1, 1, 1, 1, 1, 1, 1, 2, 1, 1, 1, 1, 1, 1, 1, 1, 1, 1,\n",
       "        2, 1, 1, 1, 1, 1, 1, 1, 1, 1, 1, 1, 1, 1, 1, 1, 1, 2, 1, 1, 1, 1,\n",
       "        1, 2, 1, 1, 1, 1, 1, 1, 2, 1, 1, 2, 1, 1, 1, 1, 1, 1, 1, 1, 1, 1,\n",
       "        1, 1, 1, 1, 1, 1, 1, 1, 1, 1, 1, 1, 1, 1, 1, 1, 1, 1, 1, 1, 1, 1,\n",
       "        2, 1, 1, 2, 1, 1, 1, 1, 1, 1, 1, 1, 1, 1, 1, 1, 1, 2, 1, 1, 1, 2,\n",
       "        3, 1, 1, 2, 1, 1, 1, 1, 1, 1, 1, 1, 1, 1, 1, 1, 1, 1, 1, 1, 1, 1,\n",
       "        1, 3, 1, 1, 1, 1, 1, 1, 2, 1, 1, 1, 1, 1, 1, 1, 1, 1, 1, 1, 1, 1,\n",
       "        1, 1, 1, 1, 1, 1, 1, 1, 1, 1, 1, 1, 1, 1, 1, 1, 1, 1, 1, 1, 1, 1,\n",
       "        1, 1, 1, 1, 1, 1, 1, 3, 1, 1, 1, 1, 1, 1, 1, 1, 2, 1, 1, 1, 2, 1,\n",
       "        1, 1, 1, 1, 1, 1, 1, 1, 1, 1, 1, 2, 1, 1, 1, 1, 1, 1, 1, 2, 2, 2,\n",
       "        1, 2, 1, 1, 1, 1, 1, 1, 2, 1, 1, 1, 1, 1, 1, 1, 1, 1, 2, 1, 1, 1,\n",
       "        1, 1, 1, 1, 2, 1, 1, 1, 1, 1, 1, 1, 1, 1, 1, 1, 1, 1, 1, 1, 1, 1,\n",
       "        1, 1, 2, 2, 1, 1, 1, 1, 1, 1, 1, 1, 1, 1, 1, 1, 1, 2, 1, 2, 1, 1,\n",
       "        1, 1, 1, 1, 2, 1, 1, 2, 1, 1, 2, 1, 1, 2, 1, 1, 1, 1, 1, 1, 1, 1,\n",
       "        1, 2, 2, 1, 1, 1, 1, 1, 1, 2, 1, 1, 1, 1, 1, 1, 1, 1, 1, 1, 1, 1,\n",
       "        1, 1, 1, 1, 1, 1, 1, 1, 1, 1, 1, 1, 1, 1, 2, 1, 1, 1, 3, 1, 1, 1,\n",
       "        1, 2, 1, 2, 1, 1, 1, 1, 1, 1, 1, 2, 1, 2, 1, 1, 1, 1, 1, 2, 2, 1,\n",
       "        1, 1, 1, 1, 2, 1, 2, 1, 1, 1, 1, 1, 1, 2, 1, 2, 1, 1, 1, 2, 1, 1,\n",
       "        1, 1, 1, 1, 1, 2, 1, 1, 1, 2, 1, 1, 1, 1, 1, 1]))"
      ]
     },
     "execution_count": 196,
     "metadata": {},
     "output_type": "execute_result"
    }
   ],
   "source": [
    "manual_time_6 = %timeit -o manual_func_6(x)\n",
    "manual_func_6(x)"
   ]
  },
  {
   "cell_type": "code",
   "execution_count": 197,
   "metadata": {},
   "outputs": [
    {
     "data": {
      "image/png": "[encoded data removed]",
      "text/plain": [
       "<Figure size 640x480 with 1 Axes>"
      ]
     },
     "metadata": {},
     "output_type": "display_data"
    }
   ],
   "source": [
    "y_axis = [timeit_to_float(time_6), timeit_to_float(best_time_6), timeit_to_float(manual_time_6)]\n",
    "x_axis = ['func_6', 'best_func_6', 'manual_finc_6']\n",
    "plt.bar(x_axis, y_axis)\n",
    "plt.show()"
   ]
  },
  {
   "cell_type": "markdown",
   "metadata": {},
   "source": [
    "### 7. Даны две выборки объектов - X и Y. Вычислить матрицу евклидовых расстояний между объектами. Сравнить с функцией scipy.spatial.distance.cdist."
   ]
  },
  {
   "cell_type": "markdown",
   "metadata": {},
   "source": [
    "#### 7.1"
   ]
  },
  {
   "cell_type": "code",
   "execution_count": 156,
   "metadata": {},
   "outputs": [],
   "source": [
    "from math import sqrt\n",
    "\n",
    "\n",
    "def dist(x, y):\n",
    "    '''Функция вычисляет евклидово расстояние между двумя векторами произвольной размерности'''\n",
    "    d = 0\n",
    "    for coord_x, coord_y in zip(x, y):\n",
    "        d += (coord_x - coord_y) ** 2\n",
    "    return sqrt(d)\n",
    "\n",
    "\n",
    "def func_7(X, Y):\n",
    "    '''Функция на основе dist() возвращает матрицу расстояний между двумя массивами векторов'''\n",
    "    ans = []\n",
    "    for elem_x in X:\n",
    "        d = []\n",
    "        for elem_y in Y:\n",
    "            d.append(dist(elem_x, elem_y))\n",
    "        ans.append(d)\n",
    "    return np.array(ans)"
   ]
  },
  {
   "cell_type": "markdown",
   "metadata": {},
   "source": [
    "#### 7.2"
   ]
  },
  {
   "cell_type": "code",
   "execution_count": 157,
   "metadata": {},
   "outputs": [],
   "source": [
    "def dist(x, y):\n",
    "    '''Функция вычисляет евклидово расстояние между двумя векторами произвольной размерности'''\n",
    "    d = np.array((np.array(x) - np.array(y))**2)\n",
    "    return sqrt(sum(d))\n",
    "\n",
    "\n",
    "def best_func_7(X, Y):\n",
    "    '''Можно представить евклидово расстояние между двумя векторами следующим образом: X^2 - 2XY + Y^2, \n",
    "    где X^2 сумма квадратов всех координат первого вектора, Y^2 - аналогично для второго вектора, XY - произведение\n",
    "    этих матриц'''\n",
    "    X2 = np.sum(X**2, axis=1)\n",
    "    Y2 = np.sum(Y**2, axis=1)\n",
    "    xy = np.dot(X, Y.T)\n",
    "    X2 = X2.reshape(-1, 1)\n",
    "    return np.sqrt(X2 - 2*xy + Y2)  "
   ]
  },
  {
   "cell_type": "markdown",
   "metadata": {},
   "source": [
    "#### 7.3"
   ]
  },
  {
   "cell_type": "code",
   "execution_count": 158,
   "metadata": {},
   "outputs": [],
   "source": [
    "def manual_func_7(X, Y):\n",
    "    '''С помощью инструментов numpy для каждой пары объектов вычисляем поэлементную разность их координат,\n",
    "    возводим значения в полученном списке в квадрат, вычисляем сумму значений и записываем в матрицу расстояний'''\n",
    "    dist = np.zeros((len(X), len(Y)))\n",
    "    for i in range(len(X)):\n",
    "        for j in range(len(Y)):\n",
    "            dist[i][j] = np.sqrt(np.sum((X[i] - Y[j]) ** 2))\n",
    "    return dist"
   ]
  },
  {
   "cell_type": "markdown",
   "metadata": {},
   "source": [
    "### Тесты эффективности"
   ]
  },
  {
   "cell_type": "code",
   "execution_count": 159,
   "metadata": {},
   "outputs": [],
   "source": [
    "x = np.random.randint(0, 100, (10, 10))"
   ]
  },
  {
   "cell_type": "code",
   "execution_count": 160,
   "metadata": {},
   "outputs": [
    {
     "name": "stdout",
     "output_type": "stream",
     "text": [
      "962 µs ± 22.4 µs per loop (mean ± std. dev. of 7 runs, 1,000 loops each)\n"
     ]
    },
    {
     "data": {
      "text/plain": [
       "array([[  0.        , 138.84523758, 134.17525852, 146.77193192,\n",
       "        108.66922287, 111.14405067, 168.4547417 , 146.57762449,\n",
       "        127.40094191, 156.70673247],\n",
       "       [138.84523758,   0.        , 147.36010315, 128.69343418,\n",
       "        115.72812968, 121.9549097 , 133.54774427, 124.64750298,\n",
       "        164.24676557, 136.72966028],\n",
       "       [134.17525852, 147.36010315,   0.        , 128.37834708,\n",
       "         72.09715667, 124.04837766, 167.1466422 ,  97.80593029,\n",
       "        153.65545874, 132.48396129],\n",
       "       [146.77193192, 128.69343418, 128.37834708,   0.        ,\n",
       "        138.61818063, 142.03872711, 127.61269529, 160.73269736,\n",
       "        146.52986044, 114.8607853 ],\n",
       "       [108.66922287, 115.72812968,  72.09715667, 138.61818063,\n",
       "          0.        ,  84.08329204, 149.939988  ,  82.96987405,\n",
       "        125.73782247, 129.50675658],\n",
       "       [111.14405067, 121.9549097 , 124.04837766, 142.03872711,\n",
       "         84.08329204,   0.        , 142.02816622, 107.04204781,\n",
       "        122.04917042, 140.48487463],\n",
       "       [168.4547417 , 133.54774427, 167.1466422 , 127.61269529,\n",
       "        149.939988  , 142.02816622,   0.        , 151.54537274,\n",
       "        127.05117079, 167.01496939],\n",
       "       [146.57762449, 124.64750298,  97.80593029, 160.73269736,\n",
       "         82.96987405, 107.04204781, 151.54537274,   0.        ,\n",
       "        134.617978  , 130.48371546],\n",
       "       [127.40094191, 164.24676557, 153.65545874, 146.52986044,\n",
       "        125.73782247, 122.04917042, 127.05117079, 134.617978  ,\n",
       "          0.        , 120.49896265],\n",
       "       [156.70673247, 136.72966028, 132.48396129, 114.8607853 ,\n",
       "        129.50675658, 140.48487463, 167.01496939, 130.48371546,\n",
       "        120.49896265,   0.        ]])"
      ]
     },
     "execution_count": 160,
     "metadata": {},
     "output_type": "execute_result"
    }
   ],
   "source": [
    "time_7 = %timeit -o func_7(x, x)\n",
    "func_7(x, x)"
   ]
  },
  {
   "cell_type": "code",
   "execution_count": 161,
   "metadata": {},
   "outputs": [
    {
     "name": "stdout",
     "output_type": "stream",
     "text": [
      "42.4 µs ± 1.25 µs per loop (mean ± std. dev. of 7 runs, 10,000 loops each)\n"
     ]
    },
    {
     "data": {
      "text/plain": [
       "array([[  0.        , 138.84523758, 134.17525852, 146.77193192,\n",
       "        108.66922287, 111.14405067, 168.4547417 , 146.57762449,\n",
       "        127.40094191, 156.70673247],\n",
       "       [138.84523758,   0.        , 147.36010315, 128.69343418,\n",
       "        115.72812968, 121.9549097 , 133.54774427, 124.64750298,\n",
       "        164.24676557, 136.72966028],\n",
       "       [134.17525852, 147.36010315,   0.        , 128.37834708,\n",
       "         72.09715667, 124.04837766, 167.1466422 ,  97.80593029,\n",
       "        153.65545874, 132.48396129],\n",
       "       [146.77193192, 128.69343418, 128.37834708,   0.        ,\n",
       "        138.61818063, 142.03872711, 127.61269529, 160.73269736,\n",
       "        146.52986044, 114.8607853 ],\n",
       "       [108.66922287, 115.72812968,  72.09715667, 138.61818063,\n",
       "          0.        ,  84.08329204, 149.939988  ,  82.96987405,\n",
       "        125.73782247, 129.50675658],\n",
       "       [111.14405067, 121.9549097 , 124.04837766, 142.03872711,\n",
       "         84.08329204,   0.        , 142.02816622, 107.04204781,\n",
       "        122.04917042, 140.48487463],\n",
       "       [168.4547417 , 133.54774427, 167.1466422 , 127.61269529,\n",
       "        149.939988  , 142.02816622,   0.        , 151.54537274,\n",
       "        127.05117079, 167.01496939],\n",
       "       [146.57762449, 124.64750298,  97.80593029, 160.73269736,\n",
       "         82.96987405, 107.04204781, 151.54537274,   0.        ,\n",
       "        134.617978  , 130.48371546],\n",
       "       [127.40094191, 164.24676557, 153.65545874, 146.52986044,\n",
       "        125.73782247, 122.04917042, 127.05117079, 134.617978  ,\n",
       "          0.        , 120.49896265],\n",
       "       [156.70673247, 136.72966028, 132.48396129, 114.8607853 ,\n",
       "        129.50675658, 140.48487463, 167.01496939, 130.48371546,\n",
       "        120.49896265,   0.        ]])"
      ]
     },
     "execution_count": 161,
     "metadata": {},
     "output_type": "execute_result"
    }
   ],
   "source": [
    "best_time_7 = %timeit -o best_func_7(x, x)\n",
    "best_func_7(x, x)"
   ]
  },
  {
   "cell_type": "code",
   "execution_count": 162,
   "metadata": {},
   "outputs": [
    {
     "name": "stdout",
     "output_type": "stream",
     "text": [
      "1.42 ms ± 31.9 µs per loop (mean ± std. dev. of 7 runs, 1,000 loops each)\n"
     ]
    },
    {
     "data": {
      "text/plain": [
       "array([[  0.        , 138.84523758, 134.17525852, 146.77193192,\n",
       "        108.66922287, 111.14405067, 168.4547417 , 146.57762449,\n",
       "        127.40094191, 156.70673247],\n",
       "       [138.84523758,   0.        , 147.36010315, 128.69343418,\n",
       "        115.72812968, 121.9549097 , 133.54774427, 124.64750298,\n",
       "        164.24676557, 136.72966028],\n",
       "       [134.17525852, 147.36010315,   0.        , 128.37834708,\n",
       "         72.09715667, 124.04837766, 167.1466422 ,  97.80593029,\n",
       "        153.65545874, 132.48396129],\n",
       "       [146.77193192, 128.69343418, 128.37834708,   0.        ,\n",
       "        138.61818063, 142.03872711, 127.61269529, 160.73269736,\n",
       "        146.52986044, 114.8607853 ],\n",
       "       [108.66922287, 115.72812968,  72.09715667, 138.61818063,\n",
       "          0.        ,  84.08329204, 149.939988  ,  82.96987405,\n",
       "        125.73782247, 129.50675658],\n",
       "       [111.14405067, 121.9549097 , 124.04837766, 142.03872711,\n",
       "         84.08329204,   0.        , 142.02816622, 107.04204781,\n",
       "        122.04917042, 140.48487463],\n",
       "       [168.4547417 , 133.54774427, 167.1466422 , 127.61269529,\n",
       "        149.939988  , 142.02816622,   0.        , 151.54537274,\n",
       "        127.05117079, 167.01496939],\n",
       "       [146.57762449, 124.64750298,  97.80593029, 160.73269736,\n",
       "         82.96987405, 107.04204781, 151.54537274,   0.        ,\n",
       "        134.617978  , 130.48371546],\n",
       "       [127.40094191, 164.24676557, 153.65545874, 146.52986044,\n",
       "        125.73782247, 122.04917042, 127.05117079, 134.617978  ,\n",
       "          0.        , 120.49896265],\n",
       "       [156.70673247, 136.72966028, 132.48396129, 114.8607853 ,\n",
       "        129.50675658, 140.48487463, 167.01496939, 130.48371546,\n",
       "        120.49896265,   0.        ]])"
      ]
     },
     "execution_count": 162,
     "metadata": {},
     "output_type": "execute_result"
    }
   ],
   "source": [
    "manual_time_7 = %timeit -o manual_func_7(x, x)\n",
    "manual_func_7(x, x)"
   ]
  },
  {
   "cell_type": "code",
   "execution_count": 163,
   "metadata": {},
   "outputs": [],
   "source": [
    "import scipy"
   ]
  },
  {
   "cell_type": "code",
   "execution_count": 164,
   "metadata": {},
   "outputs": [
    {
     "name": "stdout",
     "output_type": "stream",
     "text": [
      "The slowest run took 8.18 times longer than the fastest. This could mean that an intermediate result is being cached.\n",
      "29.3 µs ± 30.9 µs per loop (mean ± std. dev. of 7 runs, 1 loop each)\n"
     ]
    },
    {
     "data": {
      "text/plain": [
       "array([[  0.        , 138.84523758, 134.17525852, 146.77193192,\n",
       "        108.66922287, 111.14405067, 168.4547417 , 146.57762449,\n",
       "        127.40094191, 156.70673247],\n",
       "       [138.84523758,   0.        , 147.36010315, 128.69343418,\n",
       "        115.72812968, 121.9549097 , 133.54774427, 124.64750298,\n",
       "        164.24676557, 136.72966028],\n",
       "       [134.17525852, 147.36010315,   0.        , 128.37834708,\n",
       "         72.09715667, 124.04837766, 167.1466422 ,  97.80593029,\n",
       "        153.65545874, 132.48396129],\n",
       "       [146.77193192, 128.69343418, 128.37834708,   0.        ,\n",
       "        138.61818063, 142.03872711, 127.61269529, 160.73269736,\n",
       "        146.52986044, 114.8607853 ],\n",
       "       [108.66922287, 115.72812968,  72.09715667, 138.61818063,\n",
       "          0.        ,  84.08329204, 149.939988  ,  82.96987405,\n",
       "        125.73782247, 129.50675658],\n",
       "       [111.14405067, 121.9549097 , 124.04837766, 142.03872711,\n",
       "         84.08329204,   0.        , 142.02816622, 107.04204781,\n",
       "        122.04917042, 140.48487463],\n",
       "       [168.4547417 , 133.54774427, 167.1466422 , 127.61269529,\n",
       "        149.939988  , 142.02816622,   0.        , 151.54537274,\n",
       "        127.05117079, 167.01496939],\n",
       "       [146.57762449, 124.64750298,  97.80593029, 160.73269736,\n",
       "         82.96987405, 107.04204781, 151.54537274,   0.        ,\n",
       "        134.617978  , 130.48371546],\n",
       "       [127.40094191, 164.24676557, 153.65545874, 146.52986044,\n",
       "        125.73782247, 122.04917042, 127.05117079, 134.617978  ,\n",
       "          0.        , 120.49896265],\n",
       "       [156.70673247, 136.72966028, 132.48396129, 114.8607853 ,\n",
       "        129.50675658, 140.48487463, 167.01496939, 130.48371546,\n",
       "        120.49896265,   0.        ]])"
      ]
     },
     "execution_count": 164,
     "metadata": {},
     "output_type": "execute_result"
    }
   ],
   "source": [
    "%timeit -o scipy.spatial.distance.cdist(x, x)\n",
    "scipy.spatial.distance.cdist(x, x)"
   ]
  },
  {
   "cell_type": "code",
   "execution_count": 165,
   "metadata": {},
   "outputs": [
    {
     "data": {
      "image/png": "[encoded data removed]",
      "text/plain": [
       "<Figure size 640x480 with 1 Axes>"
      ]
     },
     "metadata": {},
     "output_type": "display_data"
    }
   ],
   "source": [
    "y_axis = [timeit_to_float(time_7), timeit_to_float(best_time_7), timeit_to_float(manual_time_7)]\n",
    "x_axis = ['func_7', 'best_func_7', 'manual_finc_7']\n",
    "plt.bar(x_axis, y_axis)\n",
    "plt.show()"
   ]
  },
  {
   "cell_type": "code",
   "execution_count": 166,
   "metadata": {},
   "outputs": [],
   "source": [
    "x = np.random.randint(0, 100, (100, 100))"
   ]
  },
  {
   "cell_type": "code",
   "execution_count": 167,
   "metadata": {},
   "outputs": [
    {
     "name": "stdout",
     "output_type": "stream",
     "text": [
      "230 ms ± 4.86 ms per loop (mean ± std. dev. of 7 runs, 1 loop each)\n"
     ]
    },
    {
     "data": {
      "text/plain": [
       "array([[  0.        , 431.66537966, 410.4716799 , ..., 407.22352584,\n",
       "        391.36428043, 400.93765101],\n",
       "       [431.66537966,   0.        , 422.27242392, ..., 420.73031742,\n",
       "        390.73648409, 372.79753218],\n",
       "       [410.4716799 , 422.27242392,   0.        , ..., 395.05695792,\n",
       "        396.8286784 , 419.99285708],\n",
       "       ...,\n",
       "       [407.22352584, 420.73031742, 395.05695792, ...,   0.        ,\n",
       "        409.29817982, 403.09552218],\n",
       "       [391.36428043, 390.73648409, 396.8286784 , ..., 409.29817982,\n",
       "          0.        , 416.15982507],\n",
       "       [400.93765101, 372.79753218, 419.99285708, ..., 403.09552218,\n",
       "        416.15982507,   0.        ]])"
      ]
     },
     "execution_count": 167,
     "metadata": {},
     "output_type": "execute_result"
    }
   ],
   "source": [
    "time_7 = %timeit -o func_7(x, x)\n",
    "func_7(x, x)"
   ]
  },
  {
   "cell_type": "code",
   "execution_count": 168,
   "metadata": {},
   "outputs": [
    {
     "name": "stdout",
     "output_type": "stream",
     "text": [
      "1.2 ms ± 22.1 µs per loop (mean ± std. dev. of 7 runs, 1,000 loops each)\n"
     ]
    },
    {
     "data": {
      "text/plain": [
       "array([[  0.        , 431.66537966, 410.4716799 , ..., 407.22352584,\n",
       "        391.36428043, 400.93765101],\n",
       "       [431.66537966,   0.        , 422.27242392, ..., 420.73031742,\n",
       "        390.73648409, 372.79753218],\n",
       "       [410.4716799 , 422.27242392,   0.        , ..., 395.05695792,\n",
       "        396.8286784 , 419.99285708],\n",
       "       ...,\n",
       "       [407.22352584, 420.73031742, 395.05695792, ...,   0.        ,\n",
       "        409.29817982, 403.09552218],\n",
       "       [391.36428043, 390.73648409, 396.8286784 , ..., 409.29817982,\n",
       "          0.        , 416.15982507],\n",
       "       [400.93765101, 372.79753218, 419.99285708, ..., 403.09552218,\n",
       "        416.15982507,   0.        ]])"
      ]
     },
     "execution_count": 168,
     "metadata": {},
     "output_type": "execute_result"
    }
   ],
   "source": [
    "best_time_7 = %timeit -o best_func_7(x, x)\n",
    "best_func_7(x, x)"
   ]
  },
  {
   "cell_type": "code",
   "execution_count": 169,
   "metadata": {},
   "outputs": [
    {
     "name": "stdout",
     "output_type": "stream",
     "text": [
      "142 ms ± 3.72 ms per loop (mean ± std. dev. of 7 runs, 10 loops each)\n"
     ]
    },
    {
     "data": {
      "text/plain": [
       "array([[  0.        , 431.66537966, 410.4716799 , ..., 407.22352584,\n",
       "        391.36428043, 400.93765101],\n",
       "       [431.66537966,   0.        , 422.27242392, ..., 420.73031742,\n",
       "        390.73648409, 372.79753218],\n",
       "       [410.4716799 , 422.27242392,   0.        , ..., 395.05695792,\n",
       "        396.8286784 , 419.99285708],\n",
       "       ...,\n",
       "       [407.22352584, 420.73031742, 395.05695792, ...,   0.        ,\n",
       "        409.29817982, 403.09552218],\n",
       "       [391.36428043, 390.73648409, 396.8286784 , ..., 409.29817982,\n",
       "          0.        , 416.15982507],\n",
       "       [400.93765101, 372.79753218, 419.99285708, ..., 403.09552218,\n",
       "        416.15982507,   0.        ]])"
      ]
     },
     "execution_count": 169,
     "metadata": {},
     "output_type": "execute_result"
    }
   ],
   "source": [
    "manual_time_7 = %timeit -o manual_func_7(x, x)\n",
    "manual_func_7(x, x)"
   ]
  },
  {
   "cell_type": "code",
   "execution_count": 170,
   "metadata": {},
   "outputs": [],
   "source": [
    "import scipy"
   ]
  },
  {
   "cell_type": "code",
   "execution_count": 171,
   "metadata": {},
   "outputs": [
    {
     "name": "stdout",
     "output_type": "stream",
     "text": [
      "709 µs ± 18.4 µs per loop (mean ± std. dev. of 7 runs, 1,000 loops each)\n"
     ]
    },
    {
     "data": {
      "text/plain": [
       "array([[  0.        , 431.66537966, 410.4716799 , ..., 407.22352584,\n",
       "        391.36428043, 400.93765101],\n",
       "       [431.66537966,   0.        , 422.27242392, ..., 420.73031742,\n",
       "        390.73648409, 372.79753218],\n",
       "       [410.4716799 , 422.27242392,   0.        , ..., 395.05695792,\n",
       "        396.8286784 , 419.99285708],\n",
       "       ...,\n",
       "       [407.22352584, 420.73031742, 395.05695792, ...,   0.        ,\n",
       "        409.29817982, 403.09552218],\n",
       "       [391.36428043, 390.73648409, 396.8286784 , ..., 409.29817982,\n",
       "          0.        , 416.15982507],\n",
       "       [400.93765101, 372.79753218, 419.99285708, ..., 403.09552218,\n",
       "        416.15982507,   0.        ]])"
      ]
     },
     "execution_count": 171,
     "metadata": {},
     "output_type": "execute_result"
    }
   ],
   "source": [
    "%timeit -o scipy.spatial.distance.cdist(x, x)\n",
    "scipy.spatial.distance.cdist(x, x)"
   ]
  },
  {
   "cell_type": "code",
   "execution_count": 172,
   "metadata": {},
   "outputs": [
    {
     "data": {
      "image/png": "[encoded data removed]",
      "text/plain": [
       "<Figure size 640x480 with 1 Axes>"
      ]
     },
     "metadata": {},
     "output_type": "display_data"
    }
   ],
   "source": [
    "y_axis = [timeit_to_float(time_7), timeit_to_float(best_time_7), timeit_to_float(manual_time_7)]\n",
    "x_axis = ['func_7', 'best_func_7', 'manual_finc_7']\n",
    "plt.bar(x_axis, y_axis)\n",
    "plt.show()"
   ]
  },
  {
   "cell_type": "code",
   "execution_count": 202,
   "metadata": {},
   "outputs": [],
   "source": [
    "x = np.random.randint(0, 100, (100, 1000))"
   ]
  },
  {
   "cell_type": "code",
   "execution_count": 203,
   "metadata": {},
   "outputs": [
    {
     "name": "stdout",
     "output_type": "stream",
     "text": [
      "1.52 s ± 24.1 ms per loop (mean ± std. dev. of 7 runs, 1 loop each)\n"
     ]
    },
    {
     "data": {
      "text/plain": [
       "array([[   0.        , 1272.01926086, 1285.44855984, ..., 1291.26565818,\n",
       "        1295.16408227, 1295.14207715],\n",
       "       [1272.01926086,    0.        , 1257.06523299, ..., 1321.90846884,\n",
       "        1230.74002129, 1305.50143623],\n",
       "       [1285.44855984, 1257.06523299,    0.        , ..., 1287.77443677,\n",
       "        1285.18403351, 1326.61938777],\n",
       "       ...,\n",
       "       [1291.26565818, 1321.90846884, 1287.77443677, ...,    0.        ,\n",
       "        1301.36428413, 1302.60508213],\n",
       "       [1295.16408227, 1230.74002129, 1285.18403351, ..., 1301.36428413,\n",
       "           0.        , 1275.5841799 ],\n",
       "       [1295.14207715, 1305.50143623, 1326.61938777, ..., 1302.60508213,\n",
       "        1275.5841799 ,    0.        ]])"
      ]
     },
     "execution_count": 203,
     "metadata": {},
     "output_type": "execute_result"
    }
   ],
   "source": [
    "time_7 = %timeit -o func_7(x, x)\n",
    "func_7(x, x)"
   ]
  },
  {
   "cell_type": "code",
   "execution_count": 204,
   "metadata": {},
   "outputs": [
    {
     "name": "stdout",
     "output_type": "stream",
     "text": [
      "9.98 ms ± 45.1 µs per loop (mean ± std. dev. of 7 runs, 100 loops each)\n"
     ]
    },
    {
     "data": {
      "text/plain": [
       "array([[   0.        , 1272.01926086, 1285.44855984, ..., 1291.26565818,\n",
       "        1295.16408227, 1295.14207715],\n",
       "       [1272.01926086,    0.        , 1257.06523299, ..., 1321.90846884,\n",
       "        1230.74002129, 1305.50143623],\n",
       "       [1285.44855984, 1257.06523299,    0.        , ..., 1287.77443677,\n",
       "        1285.18403351, 1326.61938777],\n",
       "       ...,\n",
       "       [1291.26565818, 1321.90846884, 1287.77443677, ...,    0.        ,\n",
       "        1301.36428413, 1302.60508213],\n",
       "       [1295.16408227, 1230.74002129, 1285.18403351, ..., 1301.36428413,\n",
       "           0.        , 1275.5841799 ],\n",
       "       [1295.14207715, 1305.50143623, 1326.61938777, ..., 1302.60508213,\n",
       "        1275.5841799 ,    0.        ]])"
      ]
     },
     "execution_count": 204,
     "metadata": {},
     "output_type": "execute_result"
    }
   ],
   "source": [
    "best_time_7 = %timeit -o best_func_7(x, x)\n",
    "best_func_7(x, x)"
   ]
  },
  {
   "cell_type": "code",
   "execution_count": 205,
   "metadata": {},
   "outputs": [
    {
     "name": "stdout",
     "output_type": "stream",
     "text": [
      "175 ms ± 1.09 ms per loop (mean ± std. dev. of 7 runs, 10 loops each)\n"
     ]
    },
    {
     "data": {
      "text/plain": [
       "array([[   0.        , 1272.01926086, 1285.44855984, ..., 1291.26565818,\n",
       "        1295.16408227, 1295.14207715],\n",
       "       [1272.01926086,    0.        , 1257.06523299, ..., 1321.90846884,\n",
       "        1230.74002129, 1305.50143623],\n",
       "       [1285.44855984, 1257.06523299,    0.        , ..., 1287.77443677,\n",
       "        1285.18403351, 1326.61938777],\n",
       "       ...,\n",
       "       [1291.26565818, 1321.90846884, 1287.77443677, ...,    0.        ,\n",
       "        1301.36428413, 1302.60508213],\n",
       "       [1295.16408227, 1230.74002129, 1285.18403351, ..., 1301.36428413,\n",
       "           0.        , 1275.5841799 ],\n",
       "       [1295.14207715, 1305.50143623, 1326.61938777, ..., 1302.60508213,\n",
       "        1275.5841799 ,    0.        ]])"
      ]
     },
     "execution_count": 205,
     "metadata": {},
     "output_type": "execute_result"
    }
   ],
   "source": [
    "manual_time_7 = %timeit -o manual_func_7(x, x)\n",
    "manual_func_7(x, x)"
   ]
  },
  {
   "cell_type": "code",
   "execution_count": 206,
   "metadata": {},
   "outputs": [],
   "source": [
    "import scipy"
   ]
  },
  {
   "cell_type": "code",
   "execution_count": 207,
   "metadata": {},
   "outputs": [
    {
     "name": "stdout",
     "output_type": "stream",
     "text": [
      "6.92 ms ± 135 µs per loop (mean ± std. dev. of 7 runs, 100 loops each)\n"
     ]
    },
    {
     "data": {
      "text/plain": [
       "array([[   0.        , 1272.01926086, 1285.44855984, ..., 1291.26565818,\n",
       "        1295.16408227, 1295.14207715],\n",
       "       [1272.01926086,    0.        , 1257.06523299, ..., 1321.90846884,\n",
       "        1230.74002129, 1305.50143623],\n",
       "       [1285.44855984, 1257.06523299,    0.        , ..., 1287.77443677,\n",
       "        1285.18403351, 1326.61938777],\n",
       "       ...,\n",
       "       [1291.26565818, 1321.90846884, 1287.77443677, ...,    0.        ,\n",
       "        1301.36428413, 1302.60508213],\n",
       "       [1295.16408227, 1230.74002129, 1285.18403351, ..., 1301.36428413,\n",
       "           0.        , 1275.5841799 ],\n",
       "       [1295.14207715, 1305.50143623, 1326.61938777, ..., 1302.60508213,\n",
       "        1275.5841799 ,    0.        ]])"
      ]
     },
     "execution_count": 207,
     "metadata": {},
     "output_type": "execute_result"
    }
   ],
   "source": [
    "%timeit -o scipy.spatial.distance.cdist(x, x)\n",
    "scipy.spatial.distance.cdist(x, x)"
   ]
  },
  {
   "cell_type": "code",
   "execution_count": 208,
   "metadata": {},
   "outputs": [
    {
     "data": {
      "image/png": "[encoded data removed]",
      "text/plain": [
       "<Figure size 640x480 with 1 Axes>"
      ]
     },
     "metadata": {},
     "output_type": "display_data"
    }
   ],
   "source": [
    "y_axis = [timeit_to_float(time_7), timeit_to_float(best_time_7), timeit_to_float(manual_time_7)]\n",
    "x_axis = ['func_7', 'best_func_7', 'manual_finc_7']\n",
    "plt.bar(x_axis, y_axis)\n",
    "plt.show()"
   ]
  },
  {
   "cell_type": "markdown",
   "metadata": {},
   "source": [
    "# Выводы по итогу результатов:\n",
    "Во всех задания код, реализованный с помощью встроенных инструментов библиотеки NumPy, дает наибольшую скорость выполнения; незначительно проигрывает он только в случаях с очень маленькими значениями. По сравнению со страндартными библиотеками языка и реализацией с помощью циклов он дает выигрыш в десятки (а где-то и в сотни) раз. Разница между этими подходами становится тем больше, чем большая размерность у входных данных. Скорее всего, это связано с разной сложностью алгоритмов: в реализациях с циклами она как минимум степенная, а в функциях numpy в большинстве случаев, видимо, ниже. Также имеет значение то, что код для этих функций написан на языке Си, в связи с чем в сложности алгоритмов будут фигурировать меньшие константы."
   ]
  },
  {
   "cell_type": "markdown",
   "metadata": {
    "ExecuteTime": {
     "end_time": "2021-10-04T16:02:41.398576Z",
     "start_time": "2021-10-04T16:02:41.395795Z"
    }
   },
   "source": [
    "##### Замечание. Можно считать, что все указанные объекты непустые (к примеру, в задаче №1 на диагонали матрицы есть ненулевые элементы).\n",
    "Полезные функции NumPy: np.zeros, np.ones, np.diag, np.eye, np.arange, np.linspace, np.meshgrid,\n",
    "np.random.random, np.random.randint, np.shape, np.reshape, np.transpose, np.any, np.all, np.nonzero, np.where,\n",
    "np.sum, np.cumsum, np.prod, np.diff, np.min, np.max, np.minimum, np.maximum, np.argmin, np.argmax, np.unique,\n",
    "np.sort, np.argsort, np.bincount, np.ravel, np.newaxis, np.dot, np.linalg.inv, np.linalg.solve.\n",
    "Многие из этих функций можно использовать так: x.argmin()."
   ]
  },
  {
   "cell_type": "markdown",
   "metadata": {},
   "source": [
    "# Для каждой из задач:\n",
    "(a) Написать на Python + NumPy несколько вариантов кода различной эффективности. Должно быть не\n",
    "менее трёх вариантов, в том числе как минимум один полностью векторизованный вариант (без циклов), и один\n",
    "вариант без векторизации (с циклами). Третий вариант решения — на ваше усмотрение, например, это может быть\n",
    "наиболее хорошо читаемый способ решения, или частично векторизованный вариант. Все пункты выполнять в одном google collab, разделяя их пунктами 1., 1.1, 1.2, 1.3; 2., 2.1, 2.2, 2.3; и тд.\n",
    "\n",
    "(b) Сравнить в IPython Notebook при помощи %timeit скорость работы на нескольких тестовых наборах\n",
    "РАЗНОГО размера (минимум 3, причём отличаться размеры входных данных должны минимум на порядок. Например, массивы длины 100, 1000, 10000).\n",
    "\n",
    "(c) Проанализировать полученные данные о скорости работы разных реализаций.\n",
    "\n",
    "(d) Получить выводы."
   ]
  },
  {
   "cell_type": "code",
   "execution_count": null,
   "metadata": {},
   "outputs": [],
   "source": [
    "Soft Deadline - 13 марта в 23:59\n",
    "Hard Deadline - 20 марта в 23:59"
   ]
  }
 ],
 "metadata": {
  "kernelspec": {
   "display_name": "Python 3 (ipykernel)",
   "language": "python",
   "name": "python3"
  },
  "language_info": {
   "codemirror_mode": {
    "name": "ipython",
    "version": 3
   },
   "file_extension": ".py",
   "mimetype": "text/x-python",
   "name": "python",
   "nbconvert_exporter": "python",
   "pygments_lexer": "ipython3",
   "version": "3.11.0"
  }
 },
 "nbformat": 4,
 "nbformat_minor": 2
}
